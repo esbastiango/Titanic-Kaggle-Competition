{
 "cells": [
  {
   "cell_type": "markdown",
   "id": "2145274f",
   "metadata": {},
   "source": [
    "# Titanic Survival Classification KNN vs ANN"
   ]
  },
  {
   "cell_type": "markdown",
   "id": "532f7561",
   "metadata": {},
   "source": [
    "## About this project: <a class=\"anchor\" id=\"About this project\"></a>\n",
    "The sinking of the Titanic is one of the most infamous shipwrecks in history. On April 15, 1912, during its maiden voyage, the widely considered \"unsinkable\" RMS Titanic sank after colliding with an iceberg. Unfortunately, there weren’t enough lifeboats for everyone onboard, resulting in the death of 1502 out of 2224 passengers and crew.\n",
    "\n",
    "While there was some element of luck involved in surviving, certain groups of people were more likely to survive than others.\n",
    "\n",
    "In this challenge, participants are asked to build a predictive model that answers the question: “What sorts of people were more likely to survive?” using passenger data (e.g., name, age, gender, socio-economic class, etc.).\n",
    "\n",
    "\n",
    "Participants should submit a CSV file with exactly 418 entries plus a header row. The submission will show an error if there are extra columns (beyond PassengerId and Survived) or rows. The file should have exactly two columns:\n",
    "\n",
    "* PassengerId (sorted in any order)\n",
    "* Survived (contains the binary predictions: 1 for survived, 0 for deceased)\n",
    "\n",
    "\n",
    "\n",
    "\n",
    "\n",
    "\n",
    "\n",
    "\n"
   ]
  },
  {
   "cell_type": "markdown",
   "id": "4ee5bf13",
   "metadata": {},
   "source": [
    "## Goals: \n",
    "\n",
    "* The main objective is to predict if a passenger survived the sinking of the Titanic or not. For each passenger in the test set, participants must predict a 0 (did not survive) or 1 (survived) value for the Survived variable.\n",
    "\n",
    "### Specific Goals\n",
    "\n",
    "* Data Cleaning and Handling Missing Data: Clean and appropriately handle missing data in the dataset to ensure the accuracy and integrity of the predictive models.\n",
    "        \n",
    "* Pattern Identification: Identify patterns among numerical and categorical data to aid in the construction of effective models.\n",
    "* Data Visualization: Visualize the data in a concise and relevant manner to uncover insights and trends.\n",
    "* Model Construction: Build a comprehensive model using the K-Nearest Neighbors (KNN) algorithm.\n",
    "        Construct an artificial neural network model to improve predictive accuracy.\n",
    "* Model Evaluation: Evaluate the accuracy of each model to determine their effectiveness in predicting survival outcomes."
   ]
  },
  {
   "cell_type": "markdown",
   "id": "c442dbb4",
   "metadata": {},
   "source": [
    "## About the Dataset: <a class=\"anchor\" id=\"Data\"></a>\n",
    "The dataset for this challenge is divided into two groups:\n",
    "\n",
    "Training set (train.csv)\n",
    "Test set (test.csv)\n",
    "The training set is used to build machine learning models. It includes the outcome (also known as the “ground truth”) for each passenger, which indicates whether they survived or not. The model will be trained using features such as passengers’ gender and class. Participants can also use feature engineering to create new features.\n",
    "\n",
    "The test set is used to evaluate how well the model performs on unseen data. The ground truth for each passenger in the test set is not provided. Participants must predict whether each passenger in the test set survived the Titanic sinking using the trained model.\n",
    "\n",
    "Additionally, the dataset includes a file named gender_submission.csv, which contains a set of predictions assuming all and only female passengers survived. This serves as an example of what a submission file should look like.\n",
    "\n",
    "#### Data Dictionary\n",
    "\n",
    "* survival: Survival (0 = No, 1 = Yes)\n",
    "* pclass: Ticket class (1 = 1st, 2 = 2nd, 3 = 3rd)\n",
    "* sex: Sex\n",
    "* age: Age in years\n",
    "* sibsp: Number of siblings/spouses aboard the Titanic\n",
    "* parch: Number of parents/children aboard the Titanic\n",
    "* ticket: Ticket number\n",
    "* fare: Passenger fare\n",
    "* cabin: Cabin number\n",
    "* embarked: Port of Embarkation (C = Cherbourg, Q = Queenstown, S = Southampton)\n",
    "\n",
    "#### Variable Notes\n",
    "\n",
    "* pclass: A proxy for socio-economic status (SES):  \n",
    "\n",
    "        1st = Upper  \n",
    "        2nd = Middle  \n",
    "        3rd = Lower  \n",
    "\n",
    "     \n",
    "* age: Age is fractional if less than 1. If the age is estimated, it is in the form of xx.5.  \n",
    "\n",
    "* sibsp: The dataset defines family relations as follows:\n",
    "\n",
    "        Sibling = brother, sister, stepbrother, stepsister  \n",
    "        Spouse = husband, wife (mistresses and fiancés were ignored)\n",
    "\n",
    "    \n",
    "* parch: The dataset defines family relations as follows:\n",
    "\n",
    "        Parent = mother, father\n",
    "        Child = daughter, son, stepdaughter, stepson\n",
    "        Some children traveled only with a nanny, therefore parch=0 for them.\n",
    "\n"
   ]
  },
  {
   "cell_type": "markdown",
   "id": "77091b3c",
   "metadata": {},
   "source": [
    "## Acknowledgement: <a class=\"anchor\" id=\"Data\"></a>\n",
    "The dataset for the \"Titanic - Machine Learning from Disaster\" challenge is provided by Kaggle and was created by Will Cukierski in 2012. For more information, you can visit the competition page on Kaggle here: https://kaggle.com/competitions/titanic."
   ]
  },
  {
   "cell_type": "markdown",
   "id": "248949aa",
   "metadata": {},
   "source": [
    "## Loading the Data\n",
    "This section entails importing the dataset from a CSV file using the Pandas library. The necessary libraries will be imported, and the first 5 rows of the dataset will be visualized.\n"
   ]
  },
  {
   "cell_type": "code",
   "execution_count": 402,
   "id": "86ed1d70",
   "metadata": {},
   "outputs": [],
   "source": [
    "import pandas as pd\n",
    "import seaborn as sns\n",
    "import matplotlib.pyplot as plt\n",
    "import numpy as np\n",
    "from sklearn import preprocessing\n",
    "import os\n",
    "import re"
   ]
  },
  {
   "cell_type": "code",
   "execution_count": 403,
   "id": "e295843d",
   "metadata": {},
   "outputs": [
    {
     "name": "stdout",
     "output_type": "stream",
     "text": [
      "input\\gender_submission.csv\n",
      "input\\test.csv\n",
      "input\\train.csv\n"
     ]
    }
   ],
   "source": [
    "for dirname, _, filenames in os.walk('input'):\n",
    "    for filename in filenames:\n",
    "        print(os.path.join(dirname, filename))"
   ]
  },
  {
   "cell_type": "code",
   "execution_count": 404,
   "id": "8e701149",
   "metadata": {},
   "outputs": [
    {
     "data": {
      "text/html": [
       "<div>\n",
       "<style scoped>\n",
       "    .dataframe tbody tr th:only-of-type {\n",
       "        vertical-align: middle;\n",
       "    }\n",
       "\n",
       "    .dataframe tbody tr th {\n",
       "        vertical-align: top;\n",
       "    }\n",
       "\n",
       "    .dataframe thead th {\n",
       "        text-align: right;\n",
       "    }\n",
       "</style>\n",
       "<table border=\"1\" class=\"dataframe\">\n",
       "  <thead>\n",
       "    <tr style=\"text-align: right;\">\n",
       "      <th></th>\n",
       "      <th>PassengerId</th>\n",
       "      <th>Survived</th>\n",
       "      <th>Pclass</th>\n",
       "      <th>Name</th>\n",
       "      <th>Sex</th>\n",
       "      <th>Age</th>\n",
       "      <th>SibSp</th>\n",
       "      <th>Parch</th>\n",
       "      <th>Ticket</th>\n",
       "      <th>Fare</th>\n",
       "      <th>Cabin</th>\n",
       "      <th>Embarked</th>\n",
       "    </tr>\n",
       "  </thead>\n",
       "  <tbody>\n",
       "    <tr>\n",
       "      <th>0</th>\n",
       "      <td>1</td>\n",
       "      <td>0</td>\n",
       "      <td>3</td>\n",
       "      <td>Braund, Mr. Owen Harris</td>\n",
       "      <td>male</td>\n",
       "      <td>22.0</td>\n",
       "      <td>1</td>\n",
       "      <td>0</td>\n",
       "      <td>A/5 21171</td>\n",
       "      <td>7.2500</td>\n",
       "      <td>NaN</td>\n",
       "      <td>S</td>\n",
       "    </tr>\n",
       "    <tr>\n",
       "      <th>1</th>\n",
       "      <td>2</td>\n",
       "      <td>1</td>\n",
       "      <td>1</td>\n",
       "      <td>Cumings, Mrs. John Bradley (Florence Briggs Th...</td>\n",
       "      <td>female</td>\n",
       "      <td>38.0</td>\n",
       "      <td>1</td>\n",
       "      <td>0</td>\n",
       "      <td>PC 17599</td>\n",
       "      <td>71.2833</td>\n",
       "      <td>C85</td>\n",
       "      <td>C</td>\n",
       "    </tr>\n",
       "    <tr>\n",
       "      <th>2</th>\n",
       "      <td>3</td>\n",
       "      <td>1</td>\n",
       "      <td>3</td>\n",
       "      <td>Heikkinen, Miss. Laina</td>\n",
       "      <td>female</td>\n",
       "      <td>26.0</td>\n",
       "      <td>0</td>\n",
       "      <td>0</td>\n",
       "      <td>STON/O2. 3101282</td>\n",
       "      <td>7.9250</td>\n",
       "      <td>NaN</td>\n",
       "      <td>S</td>\n",
       "    </tr>\n",
       "    <tr>\n",
       "      <th>3</th>\n",
       "      <td>4</td>\n",
       "      <td>1</td>\n",
       "      <td>1</td>\n",
       "      <td>Futrelle, Mrs. Jacques Heath (Lily May Peel)</td>\n",
       "      <td>female</td>\n",
       "      <td>35.0</td>\n",
       "      <td>1</td>\n",
       "      <td>0</td>\n",
       "      <td>113803</td>\n",
       "      <td>53.1000</td>\n",
       "      <td>C123</td>\n",
       "      <td>S</td>\n",
       "    </tr>\n",
       "    <tr>\n",
       "      <th>4</th>\n",
       "      <td>5</td>\n",
       "      <td>0</td>\n",
       "      <td>3</td>\n",
       "      <td>Allen, Mr. William Henry</td>\n",
       "      <td>male</td>\n",
       "      <td>35.0</td>\n",
       "      <td>0</td>\n",
       "      <td>0</td>\n",
       "      <td>373450</td>\n",
       "      <td>8.0500</td>\n",
       "      <td>NaN</td>\n",
       "      <td>S</td>\n",
       "    </tr>\n",
       "  </tbody>\n",
       "</table>\n",
       "</div>"
      ],
      "text/plain": [
       "   PassengerId  Survived  Pclass  \\\n",
       "0            1         0       3   \n",
       "1            2         1       1   \n",
       "2            3         1       3   \n",
       "3            4         1       1   \n",
       "4            5         0       3   \n",
       "\n",
       "                                                Name     Sex   Age  SibSp  \\\n",
       "0                            Braund, Mr. Owen Harris    male  22.0      1   \n",
       "1  Cumings, Mrs. John Bradley (Florence Briggs Th...  female  38.0      1   \n",
       "2                             Heikkinen, Miss. Laina  female  26.0      0   \n",
       "3       Futrelle, Mrs. Jacques Heath (Lily May Peel)  female  35.0      1   \n",
       "4                           Allen, Mr. William Henry    male  35.0      0   \n",
       "\n",
       "   Parch            Ticket     Fare Cabin Embarked  \n",
       "0      0         A/5 21171   7.2500   NaN        S  \n",
       "1      0          PC 17599  71.2833   C85        C  \n",
       "2      0  STON/O2. 3101282   7.9250   NaN        S  \n",
       "3      0            113803  53.1000  C123        S  \n",
       "4      0            373450   8.0500   NaN        S  "
      ]
     },
     "execution_count": 404,
     "metadata": {},
     "output_type": "execute_result"
    }
   ],
   "source": [
    "train_data = pd.read_csv(\"input/train.csv\")\n",
    "train_data.head()"
   ]
  },
  {
   "cell_type": "code",
   "execution_count": 405,
   "id": "6d304d6c",
   "metadata": {},
   "outputs": [
    {
     "data": {
      "text/html": [
       "<div>\n",
       "<style scoped>\n",
       "    .dataframe tbody tr th:only-of-type {\n",
       "        vertical-align: middle;\n",
       "    }\n",
       "\n",
       "    .dataframe tbody tr th {\n",
       "        vertical-align: top;\n",
       "    }\n",
       "\n",
       "    .dataframe thead th {\n",
       "        text-align: right;\n",
       "    }\n",
       "</style>\n",
       "<table border=\"1\" class=\"dataframe\">\n",
       "  <thead>\n",
       "    <tr style=\"text-align: right;\">\n",
       "      <th></th>\n",
       "      <th>PassengerId</th>\n",
       "      <th>Pclass</th>\n",
       "      <th>Name</th>\n",
       "      <th>Sex</th>\n",
       "      <th>Age</th>\n",
       "      <th>SibSp</th>\n",
       "      <th>Parch</th>\n",
       "      <th>Ticket</th>\n",
       "      <th>Fare</th>\n",
       "      <th>Cabin</th>\n",
       "      <th>Embarked</th>\n",
       "    </tr>\n",
       "  </thead>\n",
       "  <tbody>\n",
       "    <tr>\n",
       "      <th>0</th>\n",
       "      <td>892</td>\n",
       "      <td>3</td>\n",
       "      <td>Kelly, Mr. James</td>\n",
       "      <td>male</td>\n",
       "      <td>34.5</td>\n",
       "      <td>0</td>\n",
       "      <td>0</td>\n",
       "      <td>330911</td>\n",
       "      <td>7.8292</td>\n",
       "      <td>NaN</td>\n",
       "      <td>Q</td>\n",
       "    </tr>\n",
       "    <tr>\n",
       "      <th>1</th>\n",
       "      <td>893</td>\n",
       "      <td>3</td>\n",
       "      <td>Wilkes, Mrs. James (Ellen Needs)</td>\n",
       "      <td>female</td>\n",
       "      <td>47.0</td>\n",
       "      <td>1</td>\n",
       "      <td>0</td>\n",
       "      <td>363272</td>\n",
       "      <td>7.0000</td>\n",
       "      <td>NaN</td>\n",
       "      <td>S</td>\n",
       "    </tr>\n",
       "    <tr>\n",
       "      <th>2</th>\n",
       "      <td>894</td>\n",
       "      <td>2</td>\n",
       "      <td>Myles, Mr. Thomas Francis</td>\n",
       "      <td>male</td>\n",
       "      <td>62.0</td>\n",
       "      <td>0</td>\n",
       "      <td>0</td>\n",
       "      <td>240276</td>\n",
       "      <td>9.6875</td>\n",
       "      <td>NaN</td>\n",
       "      <td>Q</td>\n",
       "    </tr>\n",
       "    <tr>\n",
       "      <th>3</th>\n",
       "      <td>895</td>\n",
       "      <td>3</td>\n",
       "      <td>Wirz, Mr. Albert</td>\n",
       "      <td>male</td>\n",
       "      <td>27.0</td>\n",
       "      <td>0</td>\n",
       "      <td>0</td>\n",
       "      <td>315154</td>\n",
       "      <td>8.6625</td>\n",
       "      <td>NaN</td>\n",
       "      <td>S</td>\n",
       "    </tr>\n",
       "    <tr>\n",
       "      <th>4</th>\n",
       "      <td>896</td>\n",
       "      <td>3</td>\n",
       "      <td>Hirvonen, Mrs. Alexander (Helga E Lindqvist)</td>\n",
       "      <td>female</td>\n",
       "      <td>22.0</td>\n",
       "      <td>1</td>\n",
       "      <td>1</td>\n",
       "      <td>3101298</td>\n",
       "      <td>12.2875</td>\n",
       "      <td>NaN</td>\n",
       "      <td>S</td>\n",
       "    </tr>\n",
       "  </tbody>\n",
       "</table>\n",
       "</div>"
      ],
      "text/plain": [
       "   PassengerId  Pclass                                          Name     Sex  \\\n",
       "0          892       3                              Kelly, Mr. James    male   \n",
       "1          893       3              Wilkes, Mrs. James (Ellen Needs)  female   \n",
       "2          894       2                     Myles, Mr. Thomas Francis    male   \n",
       "3          895       3                              Wirz, Mr. Albert    male   \n",
       "4          896       3  Hirvonen, Mrs. Alexander (Helga E Lindqvist)  female   \n",
       "\n",
       "    Age  SibSp  Parch   Ticket     Fare Cabin Embarked  \n",
       "0  34.5      0      0   330911   7.8292   NaN        Q  \n",
       "1  47.0      1      0   363272   7.0000   NaN        S  \n",
       "2  62.0      0      0   240276   9.6875   NaN        Q  \n",
       "3  27.0      0      0   315154   8.6625   NaN        S  \n",
       "4  22.0      1      1  3101298  12.2875   NaN        S  "
      ]
     },
     "execution_count": 405,
     "metadata": {},
     "output_type": "execute_result"
    }
   ],
   "source": [
    "test_data = pd.read_csv(\"input/test.csv\")\n",
    "test_data.head()"
   ]
  },
  {
   "cell_type": "markdown",
   "id": "882b417d",
   "metadata": {},
   "source": [
    "## Data Information\n"
   ]
  },
  {
   "cell_type": "markdown",
   "id": "ba43d61b",
   "metadata": {},
   "source": [
    "The training and test datasets exhibit distinct dimensions. The training set comprises 891 rows and 12 columns, while the test set consists of 418 rows and 11 columns. In the training dataset, missing values are observed in features such as age, cabin, and embarked port. Similarly, the test dataset has missing data in age, fare, and cabin. Statistical summaries unveil insights into the distribution of variables in both datasets, highlighting features like the average age of passengers and the mean fare paid."
   ]
  },
  {
   "cell_type": "markdown",
   "id": "1a2390eb",
   "metadata": {},
   "source": [
    "#### Train Data"
   ]
  },
  {
   "cell_type": "code",
   "execution_count": 406,
   "id": "7c0f07fc",
   "metadata": {},
   "outputs": [
    {
     "data": {
      "text/plain": [
       "(891, 12)"
      ]
     },
     "execution_count": 406,
     "metadata": {},
     "output_type": "execute_result"
    }
   ],
   "source": [
    "train_data.shape"
   ]
  },
  {
   "cell_type": "code",
   "execution_count": 407,
   "id": "25800066",
   "metadata": {
    "scrolled": true
   },
   "outputs": [
    {
     "name": "stdout",
     "output_type": "stream",
     "text": [
      "<class 'pandas.core.frame.DataFrame'>\n",
      "RangeIndex: 891 entries, 0 to 890\n",
      "Data columns (total 12 columns):\n",
      " #   Column       Non-Null Count  Dtype  \n",
      "---  ------       --------------  -----  \n",
      " 0   PassengerId  891 non-null    int64  \n",
      " 1   Survived     891 non-null    int64  \n",
      " 2   Pclass       891 non-null    int64  \n",
      " 3   Name         891 non-null    object \n",
      " 4   Sex          891 non-null    object \n",
      " 5   Age          714 non-null    float64\n",
      " 6   SibSp        891 non-null    int64  \n",
      " 7   Parch        891 non-null    int64  \n",
      " 8   Ticket       891 non-null    object \n",
      " 9   Fare         891 non-null    float64\n",
      " 10  Cabin        204 non-null    object \n",
      " 11  Embarked     889 non-null    object \n",
      "dtypes: float64(2), int64(5), object(5)\n",
      "memory usage: 83.7+ KB\n"
     ]
    }
   ],
   "source": [
    "train_data.info()"
   ]
  },
  {
   "cell_type": "code",
   "execution_count": 408,
   "id": "db125f96",
   "metadata": {},
   "outputs": [
    {
     "name": "stdout",
     "output_type": "stream",
     "text": [
      "PassengerId      0\n",
      "Survived         0\n",
      "Pclass           0\n",
      "Name             0\n",
      "Sex              0\n",
      "Age            177\n",
      "SibSp            0\n",
      "Parch            0\n",
      "Ticket           0\n",
      "Fare             0\n",
      "Cabin          687\n",
      "Embarked         2\n",
      "dtype: int64\n"
     ]
    }
   ],
   "source": [
    "print(train_data.isnull().sum())"
   ]
  },
  {
   "cell_type": "code",
   "execution_count": 409,
   "id": "72a31dbf",
   "metadata": {},
   "outputs": [
    {
     "data": {
      "text/plain": [
       "PassengerId                          1\n",
       "Survived                             0\n",
       "Pclass                               3\n",
       "Name           Braund, Mr. Owen Harris\n",
       "Sex                               male\n",
       "Age                               22.0\n",
       "SibSp                                1\n",
       "Parch                                0\n",
       "Ticket                       A/5 21171\n",
       "Fare                              7.25\n",
       "Cabin                              NaN\n",
       "Embarked                             S\n",
       "Name: 0, dtype: object"
      ]
     },
     "execution_count": 409,
     "metadata": {},
     "output_type": "execute_result"
    }
   ],
   "source": [
    "train_data.iloc[0]"
   ]
  },
  {
   "cell_type": "code",
   "execution_count": 410,
   "id": "e1a15fb1",
   "metadata": {},
   "outputs": [
    {
     "name": "stdout",
     "output_type": "stream",
     "text": [
      "       PassengerId    Survived      Pclass         Age       SibSp  \\\n",
      "count   891.000000  891.000000  891.000000  714.000000  891.000000   \n",
      "mean    446.000000    0.383838    2.308642   29.699118    0.523008   \n",
      "std     257.353842    0.486592    0.836071   14.526497    1.102743   \n",
      "min       1.000000    0.000000    1.000000    0.420000    0.000000   \n",
      "25%     223.500000    0.000000    2.000000   20.125000    0.000000   \n",
      "50%     446.000000    0.000000    3.000000   28.000000    0.000000   \n",
      "75%     668.500000    1.000000    3.000000   38.000000    1.000000   \n",
      "max     891.000000    1.000000    3.000000   80.000000    8.000000   \n",
      "\n",
      "            Parch        Fare  \n",
      "count  891.000000  891.000000  \n",
      "mean     0.381594   32.204208  \n",
      "std      0.806057   49.693429  \n",
      "min      0.000000    0.000000  \n",
      "25%      0.000000    7.910400  \n",
      "50%      0.000000   14.454200  \n",
      "75%      0.000000   31.000000  \n",
      "max      6.000000  512.329200  \n"
     ]
    }
   ],
   "source": [
    "print(train_data.describe())"
   ]
  },
  {
   "cell_type": "markdown",
   "id": "7fb93850",
   "metadata": {},
   "source": [
    "#### Test Data"
   ]
  },
  {
   "cell_type": "code",
   "execution_count": 411,
   "id": "d2bafc30",
   "metadata": {},
   "outputs": [
    {
     "data": {
      "text/plain": [
       "(418, 11)"
      ]
     },
     "execution_count": 411,
     "metadata": {},
     "output_type": "execute_result"
    }
   ],
   "source": [
    "test_data.shape"
   ]
  },
  {
   "cell_type": "code",
   "execution_count": 412,
   "id": "6d74ae4a",
   "metadata": {},
   "outputs": [
    {
     "name": "stdout",
     "output_type": "stream",
     "text": [
      "<class 'pandas.core.frame.DataFrame'>\n",
      "RangeIndex: 418 entries, 0 to 417\n",
      "Data columns (total 11 columns):\n",
      " #   Column       Non-Null Count  Dtype  \n",
      "---  ------       --------------  -----  \n",
      " 0   PassengerId  418 non-null    int64  \n",
      " 1   Pclass       418 non-null    int64  \n",
      " 2   Name         418 non-null    object \n",
      " 3   Sex          418 non-null    object \n",
      " 4   Age          332 non-null    float64\n",
      " 5   SibSp        418 non-null    int64  \n",
      " 6   Parch        418 non-null    int64  \n",
      " 7   Ticket       418 non-null    object \n",
      " 8   Fare         417 non-null    float64\n",
      " 9   Cabin        91 non-null     object \n",
      " 10  Embarked     418 non-null    object \n",
      "dtypes: float64(2), int64(4), object(5)\n",
      "memory usage: 36.1+ KB\n"
     ]
    }
   ],
   "source": [
    "test_data.info()"
   ]
  },
  {
   "cell_type": "code",
   "execution_count": 413,
   "id": "7f7eb952",
   "metadata": {},
   "outputs": [
    {
     "name": "stdout",
     "output_type": "stream",
     "text": [
      "PassengerId      0\n",
      "Pclass           0\n",
      "Name             0\n",
      "Sex              0\n",
      "Age             86\n",
      "SibSp            0\n",
      "Parch            0\n",
      "Ticket           0\n",
      "Fare             1\n",
      "Cabin          327\n",
      "Embarked         0\n",
      "dtype: int64\n"
     ]
    }
   ],
   "source": [
    "print(test_data.isnull().sum())"
   ]
  },
  {
   "cell_type": "code",
   "execution_count": 414,
   "id": "30958750",
   "metadata": {},
   "outputs": [
    {
     "data": {
      "text/plain": [
       "PassengerId                 892\n",
       "Pclass                        3\n",
       "Name           Kelly, Mr. James\n",
       "Sex                        male\n",
       "Age                        34.5\n",
       "SibSp                         0\n",
       "Parch                         0\n",
       "Ticket                   330911\n",
       "Fare                     7.8292\n",
       "Cabin                       NaN\n",
       "Embarked                      Q\n",
       "Name: 0, dtype: object"
      ]
     },
     "execution_count": 414,
     "metadata": {},
     "output_type": "execute_result"
    }
   ],
   "source": [
    "test_data.iloc[0]"
   ]
  },
  {
   "cell_type": "code",
   "execution_count": 415,
   "id": "4ab26030",
   "metadata": {},
   "outputs": [
    {
     "name": "stdout",
     "output_type": "stream",
     "text": [
      "       PassengerId      Pclass         Age       SibSp       Parch        Fare\n",
      "count   418.000000  418.000000  332.000000  418.000000  418.000000  417.000000\n",
      "mean   1100.500000    2.265550   30.272590    0.447368    0.392344   35.627188\n",
      "std     120.810458    0.841838   14.181209    0.896760    0.981429   55.907576\n",
      "min     892.000000    1.000000    0.170000    0.000000    0.000000    0.000000\n",
      "25%     996.250000    1.000000   21.000000    0.000000    0.000000    7.895800\n",
      "50%    1100.500000    3.000000   27.000000    0.000000    0.000000   14.454200\n",
      "75%    1204.750000    3.000000   39.000000    1.000000    0.000000   31.500000\n",
      "max    1309.000000    3.000000   76.000000    8.000000    9.000000  512.329200\n"
     ]
    }
   ],
   "source": [
    "print(test_data.describe())"
   ]
  },
  {
   "cell_type": "markdown",
   "id": "37d0a971",
   "metadata": {},
   "source": [
    "## Data Cleaning"
   ]
  },
  {
   "cell_type": "markdown",
   "id": "fbff15a0",
   "metadata": {},
   "source": [
    "In this section, the training and test data were cleaned. To achieve this, the distribution of data in the numerical variables was identified, and the frequencies in the categorical variables were determined. Additionally, the names were standardized and grouped into six categories. Based on this information, missing data in the 'Age' and 'Embarked' columns were filled in the training data, while missing data in the 'Age' and 'Fare' columns were filled in the test data."
   ]
  },
  {
   "cell_type": "markdown",
   "id": "4a8ff077",
   "metadata": {},
   "source": [
    "#### Train Data"
   ]
  },
  {
   "cell_type": "code",
   "execution_count": 416,
   "id": "7cb282f4",
   "metadata": {},
   "outputs": [],
   "source": [
    "#Dropping columns that are not part of the analysis\n",
    "# List of columns to drop\n",
    "columns_to_drop = ['PassengerId', 'Cabin','Ticket']\n",
    "# Drop the columns\n",
    "train_data = train_data.drop(columns=columns_to_drop)"
   ]
  },
  {
   "cell_type": "code",
   "execution_count": 417,
   "id": "a7abd051",
   "metadata": {},
   "outputs": [
    {
     "data": {
      "text/plain": [
       "0"
      ]
     },
     "execution_count": 417,
     "metadata": {},
     "output_type": "execute_result"
    }
   ],
   "source": [
    "# see the duplicated rows\n",
    "train_data.duplicated().sum()"
   ]
  },
  {
   "cell_type": "code",
   "execution_count": 418,
   "id": "e9c29042",
   "metadata": {},
   "outputs": [
    {
     "data": {
      "image/png": "[encoded data removed]",
      "text/plain": [
       "<Figure size 1500x500 with 4 Axes>"
      ]
     },
     "metadata": {},
     "output_type": "display_data"
    }
   ],
   "source": [
    "#Define Outliers in Numeric Variables\n",
    "# Specify the columns you want to plot\n",
    "columns_to_plot = ['Age', 'SibSp', 'Parch','Fare']\n",
    "\n",
    "# Create subplots for the boxplots\n",
    "fig, axes = plt.subplots(nrows=1, ncols=len(columns_to_plot), figsize=(15, 5))\n",
    "\n",
    "# Iterate over the columns and plot the boxplots\n",
    "for i, col in enumerate(columns_to_plot):\n",
    "    sns.boxplot(y=train_data[col], ax=axes[i])\n",
    "    axes[i].set_title(col)\n",
    "\n",
    "# Adjust layout and show the plots\n",
    "plt.tight_layout()\n",
    "plt.show()"
   ]
  },
  {
   "cell_type": "code",
   "execution_count": 419,
   "id": "d1c80f71",
   "metadata": {},
   "outputs": [
    {
     "data": {
      "image/png": "[encoded data removed]",
      "text/plain": [
       "<Figure size 1500x500 with 4 Axes>"
      ]
     },
     "metadata": {},
     "output_type": "display_data"
    }
   ],
   "source": [
    "#Define Outliers in Cat Values\n",
    "# Specify the columns you want to plot\n",
    "columns_to_plot = ['Survived', 'Sex', 'Pclass', 'Embarked']\n",
    "\n",
    "# Create subplots for the count plots\n",
    "fig, axes = plt.subplots(nrows=1, ncols=len(columns_to_plot), figsize=(15, 5))\n",
    "\n",
    "# Iterate over the columns and plot the count plots\n",
    "for i, col in enumerate(columns_to_plot):\n",
    "    sns.countplot(data=train_data, x=col, ax=axes[i])\n",
    "    axes[i].set_title(col)\n",
    "\n",
    "# Adjust layout and show the plots\n",
    "plt.tight_layout()\n",
    "plt.show()"
   ]
  },
  {
   "cell_type": "code",
   "execution_count": 420,
   "id": "9d0078e3",
   "metadata": {},
   "outputs": [
    {
     "data": {
      "text/plain": [
       "0                              Braund, Mr. Owen Harris\n",
       "1    Cumings, Mrs. John Bradley (Florence Briggs Th...\n",
       "2                               Heikkinen, Miss. Laina\n",
       "3         Futrelle, Mrs. Jacques Heath (Lily May Peel)\n",
       "4                             Allen, Mr. William Henry\n",
       "5                                     Moran, Mr. James\n",
       "6                              McCarthy, Mr. Timothy J\n",
       "7                       Palsson, Master. Gosta Leonard\n",
       "8    Johnson, Mrs. Oscar W (Elisabeth Vilhelmina Berg)\n",
       "9                  Nasser, Mrs. Nicholas (Adele Achem)\n",
       "Name: Name, dtype: object"
      ]
     },
     "execution_count": 420,
     "metadata": {},
     "output_type": "execute_result"
    }
   ],
   "source": [
    "#Cleaning Names\n",
    "train_data.Name.head(10)"
   ]
  },
  {
   "cell_type": "code",
   "execution_count": 421,
   "id": "5e34538e",
   "metadata": {
    "scrolled": true
   },
   "outputs": [
    {
     "name": "stdout",
     "output_type": "stream",
     "text": [
      "Name\n",
      "Mr          517\n",
      "Miss        182\n",
      "Mrs         125\n",
      "Master       40\n",
      "Dr            7\n",
      "Rev           6\n",
      "Mlle          2\n",
      "Major         2\n",
      "Col           2\n",
      "              1\n",
      "Capt          1\n",
      "Ms            1\n",
      "Sir           1\n",
      "Lady          1\n",
      "Mme           1\n",
      "Don           1\n",
      "Jonkheer      1\n",
      "Name: count, dtype: int64\n"
     ]
    }
   ],
   "source": [
    "# Regex pattern to extract the title\n",
    "pattern = r', (\\w+)\\.'\n",
    "\n",
    "# Apply the regex pattern to the 'Name' column and extract the titles\n",
    "train_data['Name'] = train_data['Name'].apply(lambda x: re.findall(pattern, x)[0] if re.findall(pattern, x) else ' ')\n",
    "\n",
    "# Show the count of titles\n",
    "title_count = train_data['Name'].value_counts()\n",
    "print(title_count)"
   ]
  },
  {
   "cell_type": "code",
   "execution_count": 422,
   "id": "001ed095",
   "metadata": {},
   "outputs": [
    {
     "name": "stdout",
     "output_type": "stream",
     "text": [
      "Name\n",
      "Mr          517\n",
      "Miss        183\n",
      "Mrs         126\n",
      "Master       40\n",
      "Especial     18\n",
      "Dr            7\n",
      "Name: count, dtype: int64\n"
     ]
    }
   ],
   "source": [
    "# Grouping categories\n",
    "# Define the categories\n",
    "categories = {\n",
    "    'Mr': 'Mr',#Adult male\n",
    "    'Miss': 'Miss', #Young or unmarried female\n",
    "    'Ms': 'Miss', #Young or unmarried female\n",
    "    'Mrs': 'Mrs', #Married female\n",
    "    'Mme': 'Mrs', #Married female\n",
    "    'Master': 'Master',#Young boy\n",
    "    'Dr':  'Dr' #Professional\n",
    "}\n",
    "\n",
    "# Function to assign the 'Others' category to unclassified titles\n",
    "def categorize_title(title):\n",
    "    if title in categories:\n",
    "        return categories[title]\n",
    "    else:\n",
    "        return 'Especial' #Others\n",
    "\n",
    "# Apply the function to the 'Name' column to create a new column 'TitleCategory'\n",
    "train_data['Name'] = train_data['Name'].apply(lambda x: categorize_title(x))\n",
    "\n",
    "# Show the count of each title category\n",
    "print(train_data['Name'].value_counts())"
   ]
  },
  {
   "cell_type": "markdown",
   "id": "6ef54f6c",
   "metadata": {},
   "source": [
    "#####  Filling Values in Train Data"
   ]
  },
  {
   "cell_type": "code",
   "execution_count": 423,
   "id": "8fbd6e7d",
   "metadata": {},
   "outputs": [
    {
     "name": "stdout",
     "output_type": "stream",
     "text": [
      "               mean  median\n",
      "Name                       \n",
      "Dr        42.000000    46.5\n",
      "Especial  44.333333    46.5\n",
      "Master     4.574167     3.5\n",
      "Miss      21.816327    21.0\n",
      "Mr        32.368090    30.0\n",
      "Mrs       35.788991    35.0\n"
     ]
    }
   ],
   "source": [
    "# Calculate the mean and median of the 'Age' column for each unique value in the 'Name' column\n",
    "age_stats = train_data.groupby('Name')['Age'].agg(['mean', 'median'])\n",
    "\n",
    "# Display the age statistics for each unique value in the 'Name' column\n",
    "print(age_stats)"
   ]
  },
  {
   "cell_type": "code",
   "execution_count": 424,
   "id": "498f0741",
   "metadata": {},
   "outputs": [],
   "source": [
    "#Calculate the median age for each title in the 'TitleCategory' column\n",
    "median_age_by_title = train_data.groupby('Name')['Age'].median()\n",
    "\n",
    "# Function to fill missing values in 'Age' with the median age corresponding to the title\n",
    "def fill_age(row):\n",
    "    if pd.isnull(row['Age']):\n",
    "        return median_age_by_title[row['Name']]\n",
    "    else:\n",
    "        return row['Age']\n",
    "\n",
    "# Fill missing values in 'Age' with the median age corresponding to the title\n",
    "train_data['Age'] = train_data.apply(fill_age, axis=1)"
   ]
  },
  {
   "cell_type": "code",
   "execution_count": 425,
   "id": "28251e56",
   "metadata": {},
   "outputs": [],
   "source": [
    "# Calculate the mode of 'Embarked' for each title in the 'TitleCategory' column\n",
    "mode_embarked_by_title = train_data.groupby('Name')['Embarked'].apply(lambda x: x.mode().iloc[0] if not x.mode().empty else None)\n",
    "\n",
    "# Function to fill missing values in 'Embarked' with the mode of 'Embarked' corresponding to the title\n",
    "def fill_embarked(row):\n",
    "    if pd.isnull(row['Embarked']):\n",
    "        return mode_embarked_by_title[row['Name']]\n",
    "    else:\n",
    "        return row['Embarked']\n",
    "\n",
    "# Fill missing values in 'Embarked' with the mode of 'Embarked' corresponding to the title\n",
    "train_data['Embarked'] = train_data.apply(fill_embarked, axis=1)"
   ]
  },
  {
   "cell_type": "code",
   "execution_count": 426,
   "id": "bf6d3e68",
   "metadata": {
    "scrolled": true
   },
   "outputs": [
    {
     "name": "stdout",
     "output_type": "stream",
     "text": [
      "Survived    0\n",
      "Pclass      0\n",
      "Name        0\n",
      "Sex         0\n",
      "Age         0\n",
      "SibSp       0\n",
      "Parch       0\n",
      "Fare        0\n",
      "Embarked    0\n",
      "dtype: int64\n"
     ]
    }
   ],
   "source": [
    "print(train_data.isnull().sum())"
   ]
  },
  {
   "cell_type": "markdown",
   "id": "2fd7b228",
   "metadata": {},
   "source": [
    "#### Test Data"
   ]
  },
  {
   "cell_type": "code",
   "execution_count": 427,
   "id": "d519045a",
   "metadata": {},
   "outputs": [],
   "source": [
    "#Dropping columns that are not part of the analysis\n",
    "# List of columns to drop\n",
    "columns_to_drop = ['Cabin','Ticket']\n",
    "# Drop the columns\n",
    "test_data = test_data.drop(columns=columns_to_drop)"
   ]
  },
  {
   "cell_type": "code",
   "execution_count": 428,
   "id": "408b0be2",
   "metadata": {},
   "outputs": [
    {
     "data": {
      "text/plain": [
       "0"
      ]
     },
     "execution_count": 428,
     "metadata": {},
     "output_type": "execute_result"
    }
   ],
   "source": [
    "# see the duplicated rows\n",
    "test_data.duplicated().sum()"
   ]
  },
  {
   "cell_type": "code",
   "execution_count": 429,
   "id": "a8b43d68",
   "metadata": {},
   "outputs": [
    {
     "data": {
      "image/png": "[encoded data removed]",
      "text/plain": [
       "<Figure size 1500x500 with 4 Axes>"
      ]
     },
     "metadata": {},
     "output_type": "display_data"
    }
   ],
   "source": [
    "#Define Outliers in Numeric Variables\n",
    "# Specify the columns you want to plot\n",
    "columns_to_plot = ['Age', 'SibSp', 'Parch','Fare']\n",
    "\n",
    "# Create subplots for the boxplots\n",
    "fig, axes = plt.subplots(nrows=1, ncols=len(columns_to_plot), figsize=(15, 5))\n",
    "\n",
    "# Iterate over the columns and plot the boxplots\n",
    "for i, col in enumerate(columns_to_plot):\n",
    "    sns.boxplot(y=test_data[col], ax=axes[i])\n",
    "    axes[i].set_title(col)\n",
    "\n",
    "# Adjust layout and show the plots\n",
    "plt.tight_layout()\n",
    "plt.show()"
   ]
  },
  {
   "cell_type": "code",
   "execution_count": 430,
   "id": "3a51ecc9",
   "metadata": {},
   "outputs": [
    {
     "data": {
      "image/png": "[encoded data removed]",
      "text/plain": [
       "<Figure size 1500x500 with 3 Axes>"
      ]
     },
     "metadata": {},
     "output_type": "display_data"
    }
   ],
   "source": [
    "#Define Outliers in Cat Values\n",
    "# Specify the columns you want to plot\n",
    "columns_to_plot = ['Sex', 'Pclass', 'Embarked']\n",
    "\n",
    "# Create subplots for the count plots\n",
    "fig, axes = plt.subplots(nrows=1, ncols=len(columns_to_plot), figsize=(15, 5))\n",
    "\n",
    "# Iterate over the columns and plot the count plots\n",
    "for i, col in enumerate(columns_to_plot):\n",
    "    sns.countplot(data=test_data, x=col, ax=axes[i])\n",
    "    axes[i].set_title(col)\n",
    "\n",
    "# Adjust layout and show the plots\n",
    "plt.tight_layout()\n",
    "plt.show()"
   ]
  },
  {
   "cell_type": "code",
   "execution_count": 431,
   "id": "6d1cf229",
   "metadata": {},
   "outputs": [
    {
     "data": {
      "text/plain": [
       "0                                Kelly, Mr. James\n",
       "1                Wilkes, Mrs. James (Ellen Needs)\n",
       "2                       Myles, Mr. Thomas Francis\n",
       "3                                Wirz, Mr. Albert\n",
       "4    Hirvonen, Mrs. Alexander (Helga E Lindqvist)\n",
       "5                      Svensson, Mr. Johan Cervin\n",
       "6                            Connolly, Miss. Kate\n",
       "7                    Caldwell, Mr. Albert Francis\n",
       "8       Abrahim, Mrs. Joseph (Sophie Halaut Easu)\n",
       "9                         Davies, Mr. John Samuel\n",
       "Name: Name, dtype: object"
      ]
     },
     "execution_count": 431,
     "metadata": {},
     "output_type": "execute_result"
    }
   ],
   "source": [
    "#Cleaning Names\n",
    "test_data.Name.head(10)"
   ]
  },
  {
   "cell_type": "code",
   "execution_count": 432,
   "id": "30f59531",
   "metadata": {
    "scrolled": true
   },
   "outputs": [
    {
     "name": "stdout",
     "output_type": "stream",
     "text": [
      "Name\n",
      "Mr        240\n",
      "Miss       78\n",
      "Mrs        72\n",
      "Master     21\n",
      "Col         2\n",
      "Rev         2\n",
      "Ms          1\n",
      "Dr          1\n",
      "Dona        1\n",
      "Name: count, dtype: int64\n"
     ]
    }
   ],
   "source": [
    "# Regex pattern to extract the title\n",
    "pattern = r', (\\w+)\\.'\n",
    "\n",
    "# Apply the regex pattern to the 'Name' column and extract the titles\n",
    "test_data['Name'] = test_data['Name'].apply(lambda x: re.findall(pattern, x)[0] if re.findall(pattern, x) else ' ')\n",
    "\n",
    "# Show the count of titles\n",
    "title_count = test_data['Name'].value_counts()\n",
    "print(title_count)"
   ]
  },
  {
   "cell_type": "code",
   "execution_count": 433,
   "id": "3636deea",
   "metadata": {},
   "outputs": [
    {
     "name": "stdout",
     "output_type": "stream",
     "text": [
      "Name\n",
      "Mr          240\n",
      "Miss         79\n",
      "Mrs          72\n",
      "Master       21\n",
      "Especial      5\n",
      "Dr            1\n",
      "Name: count, dtype: int64\n"
     ]
    }
   ],
   "source": [
    "# Grouping categories\n",
    "# Define the categories\n",
    "categories = {\n",
    "    'Mr': 'Mr',#Adult male\n",
    "    'Miss': 'Miss', #Young or unmarried female\n",
    "    'Ms': 'Miss', #Young or unmarried female\n",
    "    'Mrs': 'Mrs', #Married female\n",
    "    'Mme': 'Mrs', #Married female\n",
    "    'Master': 'Master',#Young boy\n",
    "    'Dr':  'Dr' #Professional\n",
    "}\n",
    "\n",
    "# Function to assign the 'Others' category to unclassified titles\n",
    "def categorize_title(title):\n",
    "    if title in categories:\n",
    "        return categories[title]\n",
    "    else:\n",
    "        return 'Especial' #Others\n",
    "\n",
    "# Apply the function to the 'Name' column to create a new column 'TitleCategory'\n",
    "test_data['Name'] = test_data['Name'].apply(lambda x: categorize_title(x))\n",
    "\n",
    "# Show the count of each title category\n",
    "print(test_data['Name'].value_counts())"
   ]
  },
  {
   "cell_type": "markdown",
   "id": "11f439a0",
   "metadata": {},
   "source": [
    "#####  Filling Values in Test Data"
   ]
  },
  {
   "cell_type": "code",
   "execution_count": 434,
   "id": "7ef31cce",
   "metadata": {},
   "outputs": [
    {
     "name": "stdout",
     "output_type": "stream",
     "text": [
      "               mean  median\n",
      "Name                       \n",
      "Dr        53.000000    53.0\n",
      "Especial  42.000000    41.0\n",
      "Master     7.406471     7.0\n",
      "Miss      21.774844    22.0\n",
      "Mr        32.000000    28.5\n",
      "Mrs       38.903226    36.5\n"
     ]
    }
   ],
   "source": [
    "# Calculate the mean and median of the 'Age' column for each unique value in the 'Name' column\n",
    "age_stats = test_data.groupby('Name')['Age'].agg(['mean', 'median'])\n",
    "\n",
    "# Display the age statistics for each unique value in the 'Name' column\n",
    "print(age_stats)"
   ]
  },
  {
   "cell_type": "code",
   "execution_count": 435,
   "id": "7e002477",
   "metadata": {},
   "outputs": [],
   "source": [
    "#Calculate the median age for each title in the 'Name' column\n",
    "median_age_by_title = test_data.groupby('Name')['Age'].median()\n",
    "\n",
    "# Function to fill missing values in 'Age' with the median age corresponding to the title\n",
    "def fill_age(row):\n",
    "    if pd.isnull(row['Age']):\n",
    "        return median_age_by_title[row['Name']]\n",
    "    else:\n",
    "        return row['Age']\n",
    "\n",
    "# Fill missing values in 'Age' with the median age corresponding to the title\n",
    "test_data['Age'] = test_data.apply(fill_age, axis=1)"
   ]
  },
  {
   "cell_type": "code",
   "execution_count": 436,
   "id": "f47e886a",
   "metadata": {},
   "outputs": [],
   "source": [
    "#Calculate the Average Fare for each title in the 'Fare' column\n",
    "mean_fare_by_title = test_data.groupby('Name')['Fare'].mean()\n",
    "\n",
    "# Function to fill missing values in 'Age' with the median age corresponding to the title\n",
    "def fill_fare(row):\n",
    "    if pd.isnull(row['Fare']):\n",
    "        return mean_fare_by_title[row['Name']]\n",
    "    else:\n",
    "        return row['Fare']\n",
    "\n",
    "# Fill missing values in 'Fare' with the Average fear corresponding to the title\n",
    "test_data['Fare'] = test_data.apply(fill_fare, axis=1)"
   ]
  },
  {
   "cell_type": "code",
   "execution_count": 437,
   "id": "6eaf6eb9",
   "metadata": {
    "scrolled": true
   },
   "outputs": [
    {
     "name": "stdout",
     "output_type": "stream",
     "text": [
      "PassengerId    0\n",
      "Pclass         0\n",
      "Name           0\n",
      "Sex            0\n",
      "Age            0\n",
      "SibSp          0\n",
      "Parch          0\n",
      "Fare           0\n",
      "Embarked       0\n",
      "dtype: int64\n"
     ]
    }
   ],
   "source": [
    "print(test_data.isnull().sum())"
   ]
  },
  {
   "cell_type": "markdown",
   "id": "233ffec7",
   "metadata": {},
   "source": [
    "## Exploratory Analysis and Visualization¶"
   ]
  },
  {
   "cell_type": "markdown",
   "id": "732c627c",
   "metadata": {},
   "source": [
    "In this section, a scatter plot is created to identify the relationship between age and fare concerning the survivors. It is observed that younger individuals had a higher probability of survival, especially children. Regarding adults, there is a tendency to survive if the ticket was more expensive. Additionally, a bar plot is generated based on the title of the name, providing evidence that women, especially young ones, were prioritized in rescue efforts."
   ]
  },
  {
   "cell_type": "code",
   "execution_count": 438,
   "id": "eb2caff5",
   "metadata": {},
   "outputs": [
    {
     "data": {
      "image/png": "[encoded data removed]",
      "text/plain": [
       "<Figure size 640x480 with 1 Axes>"
      ]
     },
     "metadata": {},
     "output_type": "display_data"
    }
   ],
   "source": [
    "\n",
    "# Create scatter plot with 'Age' and 'Fare', and 'Survived' as legend\n",
    "sns.scatterplot(data=train_data, x='Age', y='Fare', hue='Survived')\n",
    "\n",
    "# Set title and labels\n",
    "plt.title('Scatter Plot of Age vs Fare with Survived Legend')\n",
    "plt.xlabel('Age')\n",
    "plt.ylabel('Fare')\n",
    "\n",
    "# Show legend\n",
    "plt.legend(title='Survived')\n",
    "\n",
    "# Show plot\n",
    "plt.show()\n"
   ]
  },
  {
   "cell_type": "code",
   "execution_count": 439,
   "id": "067e2ac6",
   "metadata": {},
   "outputs": [
    {
     "data": {
      "image/png": "[encoded data removed]",
      "text/plain": [
       "<Figure size 600x400 with 1 Axes>"
      ]
     },
     "metadata": {},
     "output_type": "display_data"
    }
   ],
   "source": [
    "# Calculate the frequency of each name and whether they survived\n",
    "name_survived_freq = train_data.groupby(['Name', 'Survived']).size().reset_index(name='Frequency')\n",
    "\n",
    "# Create the bar plot\n",
    "plt.figure(figsize=(6, 4))\n",
    "sns.barplot(data=name_survived_freq, x='Name', y='Frequency', hue='Survived')\n",
    "\n",
    "# Set title and axis labels\n",
    "plt.title('Frequency of Name with Survived Legend')\n",
    "plt.xlabel('Name')\n",
    "plt.ylabel('Frequency')\n",
    "\n",
    "# Rotate x-axis labels for better readability\n",
    "plt.xticks(rotation=90)\n",
    "\n",
    "# Show the legend\n",
    "plt.legend(title='Survived')\n",
    "\n",
    "# Show the plot\n",
    "plt.show()"
   ]
  },
  {
   "cell_type": "markdown",
   "id": "841ece5a",
   "metadata": {},
   "source": [
    "##  Feature Engineering"
   ]
  },
  {
   "cell_type": "markdown",
   "id": "8d0430a6",
   "metadata": {},
   "source": [
    "In this section, we perform feature engineering by encoding categorical values such as name and sex. Additionally, we group age and the number of siblings/spouses into bins or groups. Finally, we create a heatmap to visualize the correlation between survival and other factors."
   ]
  },
  {
   "cell_type": "code",
   "execution_count": 440,
   "id": "a68f592f",
   "metadata": {},
   "outputs": [
    {
     "data": {
      "text/html": [
       "<div>\n",
       "<style scoped>\n",
       "    .dataframe tbody tr th:only-of-type {\n",
       "        vertical-align: middle;\n",
       "    }\n",
       "\n",
       "    .dataframe tbody tr th {\n",
       "        vertical-align: top;\n",
       "    }\n",
       "\n",
       "    .dataframe thead th {\n",
       "        text-align: right;\n",
       "    }\n",
       "</style>\n",
       "<table border=\"1\" class=\"dataframe\">\n",
       "  <thead>\n",
       "    <tr style=\"text-align: right;\">\n",
       "      <th></th>\n",
       "      <th>Survived</th>\n",
       "      <th>Pclass</th>\n",
       "      <th>Name</th>\n",
       "      <th>Sex</th>\n",
       "      <th>Age</th>\n",
       "      <th>SibSp</th>\n",
       "      <th>Parch</th>\n",
       "      <th>Fare</th>\n",
       "      <th>Embarked</th>\n",
       "    </tr>\n",
       "  </thead>\n",
       "  <tbody>\n",
       "    <tr>\n",
       "      <th>0</th>\n",
       "      <td>0</td>\n",
       "      <td>3</td>\n",
       "      <td>Mr</td>\n",
       "      <td>male</td>\n",
       "      <td>22.0</td>\n",
       "      <td>1</td>\n",
       "      <td>0</td>\n",
       "      <td>7.2500</td>\n",
       "      <td>S</td>\n",
       "    </tr>\n",
       "    <tr>\n",
       "      <th>1</th>\n",
       "      <td>1</td>\n",
       "      <td>1</td>\n",
       "      <td>Mrs</td>\n",
       "      <td>female</td>\n",
       "      <td>38.0</td>\n",
       "      <td>1</td>\n",
       "      <td>0</td>\n",
       "      <td>71.2833</td>\n",
       "      <td>C</td>\n",
       "    </tr>\n",
       "    <tr>\n",
       "      <th>2</th>\n",
       "      <td>1</td>\n",
       "      <td>3</td>\n",
       "      <td>Miss</td>\n",
       "      <td>female</td>\n",
       "      <td>26.0</td>\n",
       "      <td>0</td>\n",
       "      <td>0</td>\n",
       "      <td>7.9250</td>\n",
       "      <td>S</td>\n",
       "    </tr>\n",
       "    <tr>\n",
       "      <th>3</th>\n",
       "      <td>1</td>\n",
       "      <td>1</td>\n",
       "      <td>Mrs</td>\n",
       "      <td>female</td>\n",
       "      <td>35.0</td>\n",
       "      <td>1</td>\n",
       "      <td>0</td>\n",
       "      <td>53.1000</td>\n",
       "      <td>S</td>\n",
       "    </tr>\n",
       "    <tr>\n",
       "      <th>4</th>\n",
       "      <td>0</td>\n",
       "      <td>3</td>\n",
       "      <td>Mr</td>\n",
       "      <td>male</td>\n",
       "      <td>35.0</td>\n",
       "      <td>0</td>\n",
       "      <td>0</td>\n",
       "      <td>8.0500</td>\n",
       "      <td>S</td>\n",
       "    </tr>\n",
       "  </tbody>\n",
       "</table>\n",
       "</div>"
      ],
      "text/plain": [
       "   Survived  Pclass  Name     Sex   Age  SibSp  Parch     Fare Embarked\n",
       "0         0       3    Mr    male  22.0      1      0   7.2500        S\n",
       "1         1       1   Mrs  female  38.0      1      0  71.2833        C\n",
       "2         1       3  Miss  female  26.0      0      0   7.9250        S\n",
       "3         1       1   Mrs  female  35.0      1      0  53.1000        S\n",
       "4         0       3    Mr    male  35.0      0      0   8.0500        S"
      ]
     },
     "execution_count": 440,
     "metadata": {},
     "output_type": "execute_result"
    }
   ],
   "source": [
    "train_data.head()"
   ]
  },
  {
   "cell_type": "code",
   "execution_count": 441,
   "id": "97ed5062",
   "metadata": {},
   "outputs": [],
   "source": [
    "# MApping Names and Embarked\n",
    "# Define the mapping dictionary to assign manually the codes for Name\n",
    "type_mapping = {'Master': 0, 'Miss': 1,'Mrs': 2,'Dr': 3,'Especial': 4,'Mr': 5}\n",
    "train_data = pd.concat([train_data, train_data['Name'].map(type_mapping).rename('Name_Encoded')], axis=1)\n",
    "test_data = pd.concat([test_data, test_data['Name'].map(type_mapping).rename('Name_Encoded')], axis=1)\n",
    "\n",
    "# Define the mapping dictionary to assign manually the codes for Embarked\n",
    "type_mapping = {'Q': 0, 'S': 1,'C': 2}\n",
    "train_data = pd.concat([train_data, train_data['Embarked'].map(type_mapping).rename('Embarked_Encoded')], axis=1)\n",
    "test_data = pd.concat([test_data, test_data['Embarked'].map(type_mapping).rename('Embarked_Encoded')], axis=1)\n",
    "\n",
    "\n",
    "#Dropping Name\n",
    "train_data = train_data.drop(['Name'], axis=1)\n",
    "test_data = test_data.drop(['Name'], axis=1)\n",
    "#Dropping Embarked\n",
    "train_data = train_data.drop(['Embarked'], axis=1)\n",
    "test_data = test_data.drop(['Embarked'], axis=1)"
   ]
  },
  {
   "cell_type": "code",
   "execution_count": 442,
   "id": "da645cff",
   "metadata": {},
   "outputs": [],
   "source": [
    "# Coding Sex\n",
    "label_encoder = preprocessing.LabelEncoder()\n",
    "train_data['Sex'] = label_encoder.fit_transform(train_data['Sex'])\n",
    "label_encoder = preprocessing.LabelEncoder()\n",
    "test_data['Sex'] = label_encoder.fit_transform(test_data['Sex'])\n"
   ]
  },
  {
   "cell_type": "code",
   "execution_count": 443,
   "id": "9c3f9718",
   "metadata": {},
   "outputs": [],
   "source": [
    "#Grouping Age\n",
    "def age_bands(data):\n",
    "    data.loc[ data['Age'] <= 15, 'Age'] = 0.0\n",
    "    data.loc[(data['Age'] > 15) & (data['Age'] <= 20), 'Age'] = 1\n",
    "    data.loc[(data['Age'] > 20) & (data['Age'] <= 40), 'Age'] = 2.0\n",
    "    data.loc[(data['Age'] > 40) & (data['Age'] <= 60), 'Age'] = 3.0\n",
    "    data.loc[ data['Age'] > 60, 'Age'] = 4.0\n",
    "    \n",
    "age_bands(train_data)\n",
    "age_bands(test_data)"
   ]
  },
  {
   "cell_type": "code",
   "execution_count": 444,
   "id": "62266023",
   "metadata": {},
   "outputs": [],
   "source": [
    "#Grouping SibSp\n",
    "def Sibsp_bands(data):\n",
    "    data.loc[ data['SibSp'] <= 1, 'SibSp'] = 0.0\n",
    "    data.loc[(data['SibSp'] > 1) & (data['SibSp'] <= 2), 'SibSp'] = 1\n",
    "    data.loc[(data['SibSp'] > 2) & (data['SibSp'] <= 5), 'SibSp'] = 2.0\n",
    "    data.loc[ data['SibSp'] > 5, 'SibSp'] = 3\n",
    "    \n",
    "    \n",
    "Sibsp_bands(train_data)\n",
    "Sibsp_bands(test_data)"
   ]
  },
  {
   "cell_type": "code",
   "execution_count": 445,
   "id": "b115e8e2",
   "metadata": {},
   "outputs": [],
   "source": [
    "#Grouping Fare\n",
    "def Fare_bands(data):\n",
    "    data.loc[ data['Fare'] <= 8, 'Fare'] = 0.0\n",
    "    data.loc[(data['Fare'] >8) & (data['Fare'] <= 15), 'Fare'] = 1.0\n",
    "    data.loc[(data['Fare'] > 15) & (data['Fare'] <= 25), 'Fare'] = 2.0\n",
    "    data.loc[(data['Fare'] > 25) & (data['Fare'] <= 40), 'Fare'] = 3.0\n",
    "    data.loc[(data['Fare'] > 40) & (data['Fare'] <= 50), 'Fare'] = 4.0\n",
    "    data.loc[(data['Fare'] > 50) & (data['Fare'] <= 70), 'Fare'] = 5.0\n",
    "    data.loc[(data['Fare'] > 70) & (data['Fare'] <= 100), 'Fare'] = 6.0\n",
    "    data.loc[(data['Fare'] > 100) & (data['Fare'] <= 300), 'Fare'] = 7.0\n",
    "    data.loc[ data['Fare'] > 300, 'Fare'] = 8\n",
    "    \n",
    "    \n",
    "Fare_bands(train_data)\n",
    "Fare_bands(test_data)"
   ]
  },
  {
   "cell_type": "code",
   "execution_count": 446,
   "id": "04591432",
   "metadata": {},
   "outputs": [],
   "source": [
    "#Grouping Parch\n",
    "def Parch_bands(data):\n",
    "    data.loc[ data['Parch'] <= 1, 'Parch'] = 0.0\n",
    "    data.loc[(data['Parch'] >1) & (data['Parch'] <= 3), 'Parch'] = 1.0\n",
    "    data.loc[ data['Parch'] > 3, 'Parch'] = 2\n",
    "    \n",
    "    \n",
    "Parch_bands (train_data)\n",
    "Parch_bands (test_data)"
   ]
  },
  {
   "cell_type": "code",
   "execution_count": 447,
   "id": "406a0fed",
   "metadata": {},
   "outputs": [
    {
     "data": {
      "text/html": [
       "<div>\n",
       "<style scoped>\n",
       "    .dataframe tbody tr th:only-of-type {\n",
       "        vertical-align: middle;\n",
       "    }\n",
       "\n",
       "    .dataframe tbody tr th {\n",
       "        vertical-align: top;\n",
       "    }\n",
       "\n",
       "    .dataframe thead th {\n",
       "        text-align: right;\n",
       "    }\n",
       "</style>\n",
       "<table border=\"1\" class=\"dataframe\">\n",
       "  <thead>\n",
       "    <tr style=\"text-align: right;\">\n",
       "      <th></th>\n",
       "      <th>Survived</th>\n",
       "      <th>Pclass</th>\n",
       "      <th>Sex</th>\n",
       "      <th>Age</th>\n",
       "      <th>SibSp</th>\n",
       "      <th>Parch</th>\n",
       "      <th>Fare</th>\n",
       "      <th>Name_Encoded</th>\n",
       "      <th>Embarked_Encoded</th>\n",
       "    </tr>\n",
       "  </thead>\n",
       "  <tbody>\n",
       "    <tr>\n",
       "      <th>Survived</th>\n",
       "      <td>1.000000</td>\n",
       "      <td>-0.338481</td>\n",
       "      <td>-0.543351</td>\n",
       "      <td>-0.102013</td>\n",
       "      <td>-0.099021</td>\n",
       "      <td>0.030489</td>\n",
       "      <td>0.329761</td>\n",
       "      <td>-0.526825</td>\n",
       "      <td>0.125953</td>\n",
       "    </tr>\n",
       "    <tr>\n",
       "      <th>Pclass</th>\n",
       "      <td>-0.338481</td>\n",
       "      <td>1.000000</td>\n",
       "      <td>0.131900</td>\n",
       "      <td>-0.279917</td>\n",
       "      <td>0.147875</td>\n",
       "      <td>0.032461</td>\n",
       "      <td>-0.739025</td>\n",
       "      <td>0.065089</td>\n",
       "      <td>-0.305762</td>\n",
       "    </tr>\n",
       "    <tr>\n",
       "      <th>Sex</th>\n",
       "      <td>-0.543351</td>\n",
       "      <td>0.131900</td>\n",
       "      <td>1.000000</td>\n",
       "      <td>0.095733</td>\n",
       "      <td>-0.061386</td>\n",
       "      <td>-0.198216</td>\n",
       "      <td>-0.242406</td>\n",
       "      <td>0.811690</td>\n",
       "      <td>-0.022521</td>\n",
       "    </tr>\n",
       "    <tr>\n",
       "      <th>Age</th>\n",
       "      <td>-0.102013</td>\n",
       "      <td>-0.279917</td>\n",
       "      <td>0.095733</td>\n",
       "      <td>1.000000</td>\n",
       "      <td>-0.319223</td>\n",
       "      <td>-0.183142</td>\n",
       "      <td>0.066618</td>\n",
       "      <td>0.383150</td>\n",
       "      <td>-0.002792</td>\n",
       "    </tr>\n",
       "    <tr>\n",
       "      <th>SibSp</th>\n",
       "      <td>-0.099021</td>\n",
       "      <td>0.147875</td>\n",
       "      <td>-0.061386</td>\n",
       "      <td>-0.319223</td>\n",
       "      <td>1.000000</td>\n",
       "      <td>0.330302</td>\n",
       "      <td>0.178427</td>\n",
       "      <td>-0.270910</td>\n",
       "      <td>-0.077368</td>\n",
       "    </tr>\n",
       "    <tr>\n",
       "      <th>Parch</th>\n",
       "      <td>0.030489</td>\n",
       "      <td>0.032461</td>\n",
       "      <td>-0.198216</td>\n",
       "      <td>-0.183142</td>\n",
       "      <td>0.330302</td>\n",
       "      <td>1.000000</td>\n",
       "      <td>0.247364</td>\n",
       "      <td>-0.269416</td>\n",
       "      <td>0.007832</td>\n",
       "    </tr>\n",
       "    <tr>\n",
       "      <th>Fare</th>\n",
       "      <td>0.329761</td>\n",
       "      <td>-0.739025</td>\n",
       "      <td>-0.242406</td>\n",
       "      <td>0.066618</td>\n",
       "      <td>0.178427</td>\n",
       "      <td>0.247364</td>\n",
       "      <td>1.000000</td>\n",
       "      <td>-0.247813</td>\n",
       "      <td>0.302798</td>\n",
       "    </tr>\n",
       "    <tr>\n",
       "      <th>Name_Encoded</th>\n",
       "      <td>-0.526825</td>\n",
       "      <td>0.065089</td>\n",
       "      <td>0.811690</td>\n",
       "      <td>0.383150</td>\n",
       "      <td>-0.270910</td>\n",
       "      <td>-0.269416</td>\n",
       "      <td>-0.247813</td>\n",
       "      <td>1.000000</td>\n",
       "      <td>0.021175</td>\n",
       "    </tr>\n",
       "    <tr>\n",
       "      <th>Embarked_Encoded</th>\n",
       "      <td>0.125953</td>\n",
       "      <td>-0.305762</td>\n",
       "      <td>-0.022521</td>\n",
       "      <td>-0.002792</td>\n",
       "      <td>-0.077368</td>\n",
       "      <td>0.007832</td>\n",
       "      <td>0.302798</td>\n",
       "      <td>0.021175</td>\n",
       "      <td>1.000000</td>\n",
       "    </tr>\n",
       "  </tbody>\n",
       "</table>\n",
       "</div>"
      ],
      "text/plain": [
       "                  Survived    Pclass       Sex       Age     SibSp     Parch  \\\n",
       "Survived          1.000000 -0.338481 -0.543351 -0.102013 -0.099021  0.030489   \n",
       "Pclass           -0.338481  1.000000  0.131900 -0.279917  0.147875  0.032461   \n",
       "Sex              -0.543351  0.131900  1.000000  0.095733 -0.061386 -0.198216   \n",
       "Age              -0.102013 -0.279917  0.095733  1.000000 -0.319223 -0.183142   \n",
       "SibSp            -0.099021  0.147875 -0.061386 -0.319223  1.000000  0.330302   \n",
       "Parch             0.030489  0.032461 -0.198216 -0.183142  0.330302  1.000000   \n",
       "Fare              0.329761 -0.739025 -0.242406  0.066618  0.178427  0.247364   \n",
       "Name_Encoded     -0.526825  0.065089  0.811690  0.383150 -0.270910 -0.269416   \n",
       "Embarked_Encoded  0.125953 -0.305762 -0.022521 -0.002792 -0.077368  0.007832   \n",
       "\n",
       "                      Fare  Name_Encoded  Embarked_Encoded  \n",
       "Survived          0.329761     -0.526825          0.125953  \n",
       "Pclass           -0.739025      0.065089         -0.305762  \n",
       "Sex              -0.242406      0.811690         -0.022521  \n",
       "Age               0.066618      0.383150         -0.002792  \n",
       "SibSp             0.178427     -0.270910         -0.077368  \n",
       "Parch             0.247364     -0.269416          0.007832  \n",
       "Fare              1.000000     -0.247813          0.302798  \n",
       "Name_Encoded     -0.247813      1.000000          0.021175  \n",
       "Embarked_Encoded  0.302798      0.021175          1.000000  "
      ]
     },
     "execution_count": 447,
     "metadata": {},
     "output_type": "execute_result"
    },
    {
     "data": {
      "image/png": "[encoded data removed]",
      "text/plain": [
       "<Figure size 2000x1000 with 2 Axes>"
      ]
     },
     "metadata": {},
     "output_type": "display_data"
    }
   ],
   "source": [
    "#Creating a Heatmap\n",
    "plt.figure(figsize=(20,10))\n",
    "c= train_data.corr()\n",
    "sns.heatmap(c,cmap=\"BrBG\",annot=True)\n",
    "c"
   ]
  },
  {
   "cell_type": "markdown",
   "id": "6198de56",
   "metadata": {},
   "source": [
    "## Creating Model"
   ]
  },
  {
   "cell_type": "markdown",
   "id": "4cc5e320",
   "metadata": {},
   "source": [
    "In this section, the correlation between the columns and the price is analyzed. Features with higher correlations are selected for the model. The regression is performed using the LinearRegression model from scikit-learn. The coefficient of determination (𝑅2) is calculated to evaluate the model's performance. Additionally, the coefficients and intercept of the model are displayed."
   ]
  },
  {
   "cell_type": "markdown",
   "id": "f759ddb2",
   "metadata": {},
   "source": [
    "#### Splitting Train Data"
   ]
  },
  {
   "cell_type": "code",
   "execution_count": 448,
   "id": "f648328b",
   "metadata": {},
   "outputs": [],
   "source": [
    "from sklearn.model_selection import train_test_split, cross_val_score\n",
    "from sklearn.neighbors import KNeighborsClassifier\n",
    "from sklearn.metrics import accuracy_score, recall_score, precision_score, confusion_matrix, f1_score\n",
    "from sklearn.preprocessing import MinMaxScaler\n",
    "from sklearn.preprocessing import StandardScaler"
   ]
  },
  {
   "cell_type": "code",
   "execution_count": 449,
   "id": "4172ae7d",
   "metadata": {},
   "outputs": [
    {
     "data": {
      "text/html": [
       "<div>\n",
       "<style scoped>\n",
       "    .dataframe tbody tr th:only-of-type {\n",
       "        vertical-align: middle;\n",
       "    }\n",
       "\n",
       "    .dataframe tbody tr th {\n",
       "        vertical-align: top;\n",
       "    }\n",
       "\n",
       "    .dataframe thead th {\n",
       "        text-align: right;\n",
       "    }\n",
       "</style>\n",
       "<table border=\"1\" class=\"dataframe\">\n",
       "  <thead>\n",
       "    <tr style=\"text-align: right;\">\n",
       "      <th></th>\n",
       "      <th>Pclass</th>\n",
       "      <th>Sex</th>\n",
       "      <th>Age</th>\n",
       "      <th>SibSp</th>\n",
       "      <th>Parch</th>\n",
       "      <th>Fare</th>\n",
       "      <th>Name_Encoded</th>\n",
       "      <th>Embarked_Encoded</th>\n",
       "    </tr>\n",
       "  </thead>\n",
       "  <tbody>\n",
       "    <tr>\n",
       "      <th>0</th>\n",
       "      <td>3</td>\n",
       "      <td>1</td>\n",
       "      <td>2.0</td>\n",
       "      <td>0</td>\n",
       "      <td>0</td>\n",
       "      <td>0.0</td>\n",
       "      <td>5</td>\n",
       "      <td>1</td>\n",
       "    </tr>\n",
       "    <tr>\n",
       "      <th>1</th>\n",
       "      <td>1</td>\n",
       "      <td>0</td>\n",
       "      <td>2.0</td>\n",
       "      <td>0</td>\n",
       "      <td>0</td>\n",
       "      <td>6.0</td>\n",
       "      <td>2</td>\n",
       "      <td>2</td>\n",
       "    </tr>\n",
       "    <tr>\n",
       "      <th>2</th>\n",
       "      <td>3</td>\n",
       "      <td>0</td>\n",
       "      <td>2.0</td>\n",
       "      <td>0</td>\n",
       "      <td>0</td>\n",
       "      <td>0.0</td>\n",
       "      <td>1</td>\n",
       "      <td>1</td>\n",
       "    </tr>\n",
       "    <tr>\n",
       "      <th>3</th>\n",
       "      <td>1</td>\n",
       "      <td>0</td>\n",
       "      <td>2.0</td>\n",
       "      <td>0</td>\n",
       "      <td>0</td>\n",
       "      <td>5.0</td>\n",
       "      <td>2</td>\n",
       "      <td>1</td>\n",
       "    </tr>\n",
       "    <tr>\n",
       "      <th>4</th>\n",
       "      <td>3</td>\n",
       "      <td>1</td>\n",
       "      <td>2.0</td>\n",
       "      <td>0</td>\n",
       "      <td>0</td>\n",
       "      <td>1.0</td>\n",
       "      <td>5</td>\n",
       "      <td>1</td>\n",
       "    </tr>\n",
       "    <tr>\n",
       "      <th>...</th>\n",
       "      <td>...</td>\n",
       "      <td>...</td>\n",
       "      <td>...</td>\n",
       "      <td>...</td>\n",
       "      <td>...</td>\n",
       "      <td>...</td>\n",
       "      <td>...</td>\n",
       "      <td>...</td>\n",
       "    </tr>\n",
       "    <tr>\n",
       "      <th>886</th>\n",
       "      <td>2</td>\n",
       "      <td>1</td>\n",
       "      <td>2.0</td>\n",
       "      <td>0</td>\n",
       "      <td>0</td>\n",
       "      <td>1.0</td>\n",
       "      <td>4</td>\n",
       "      <td>1</td>\n",
       "    </tr>\n",
       "    <tr>\n",
       "      <th>887</th>\n",
       "      <td>1</td>\n",
       "      <td>0</td>\n",
       "      <td>1.0</td>\n",
       "      <td>0</td>\n",
       "      <td>0</td>\n",
       "      <td>3.0</td>\n",
       "      <td>1</td>\n",
       "      <td>1</td>\n",
       "    </tr>\n",
       "    <tr>\n",
       "      <th>888</th>\n",
       "      <td>3</td>\n",
       "      <td>0</td>\n",
       "      <td>2.0</td>\n",
       "      <td>0</td>\n",
       "      <td>1</td>\n",
       "      <td>2.0</td>\n",
       "      <td>1</td>\n",
       "      <td>1</td>\n",
       "    </tr>\n",
       "    <tr>\n",
       "      <th>889</th>\n",
       "      <td>1</td>\n",
       "      <td>1</td>\n",
       "      <td>2.0</td>\n",
       "      <td>0</td>\n",
       "      <td>0</td>\n",
       "      <td>3.0</td>\n",
       "      <td>5</td>\n",
       "      <td>2</td>\n",
       "    </tr>\n",
       "    <tr>\n",
       "      <th>890</th>\n",
       "      <td>3</td>\n",
       "      <td>1</td>\n",
       "      <td>2.0</td>\n",
       "      <td>0</td>\n",
       "      <td>0</td>\n",
       "      <td>0.0</td>\n",
       "      <td>5</td>\n",
       "      <td>0</td>\n",
       "    </tr>\n",
       "  </tbody>\n",
       "</table>\n",
       "<p>891 rows × 8 columns</p>\n",
       "</div>"
      ],
      "text/plain": [
       "     Pclass  Sex  Age  SibSp  Parch  Fare  Name_Encoded  Embarked_Encoded\n",
       "0         3    1  2.0      0      0   0.0             5                 1\n",
       "1         1    0  2.0      0      0   6.0             2                 2\n",
       "2         3    0  2.0      0      0   0.0             1                 1\n",
       "3         1    0  2.0      0      0   5.0             2                 1\n",
       "4         3    1  2.0      0      0   1.0             5                 1\n",
       "..      ...  ...  ...    ...    ...   ...           ...               ...\n",
       "886       2    1  2.0      0      0   1.0             4                 1\n",
       "887       1    0  1.0      0      0   3.0             1                 1\n",
       "888       3    0  2.0      0      1   2.0             1                 1\n",
       "889       1    1  2.0      0      0   3.0             5                 2\n",
       "890       3    1  2.0      0      0   0.0             5                 0\n",
       "\n",
       "[891 rows x 8 columns]"
      ]
     },
     "metadata": {},
     "output_type": "display_data"
    },
    {
     "data": {
      "text/plain": [
       "0      0\n",
       "1      1\n",
       "2      1\n",
       "3      1\n",
       "4      0\n",
       "      ..\n",
       "886    0\n",
       "887    1\n",
       "888    0\n",
       "889    1\n",
       "890    0\n",
       "Name: Survived, Length: 891, dtype: int64"
      ]
     },
     "metadata": {},
     "output_type": "display_data"
    }
   ],
   "source": [
    "X_train = train_data.drop('Survived', axis=1)\n",
    "Y_train = train_data.Survived\n",
    "\n",
    "display(X_train)\n",
    "display(Y_train)"
   ]
  },
  {
   "cell_type": "markdown",
   "id": "2c0ae9e6",
   "metadata": {},
   "source": [
    "####  80% training 20% Test"
   ]
  },
  {
   "cell_type": "markdown",
   "id": "2424318b",
   "metadata": {},
   "source": [
    "#### Featuring Scale - Normalization"
   ]
  },
  {
   "cell_type": "code",
   "execution_count": 450,
   "id": "4b83b13e",
   "metadata": {},
   "outputs": [],
   "source": [
    "X_train_norm = pd.DataFrame(preprocessing.normalize(X_train),columns=X_train.columns)\n",
    "\n"
   ]
  },
  {
   "cell_type": "code",
   "execution_count": 451,
   "id": "bf1c1116",
   "metadata": {},
   "outputs": [],
   "source": [
    "X_train_split, X_test_split, Y_train_split, Y_test_split = train_test_split(X_train_norm, Y_train, test_size=0.20, random_state=42)"
   ]
  },
  {
   "cell_type": "code",
   "execution_count": 452,
   "id": "e5f5f147",
   "metadata": {},
   "outputs": [
    {
     "data": {
      "text/html": [
       "<div>\n",
       "<style scoped>\n",
       "    .dataframe tbody tr th:only-of-type {\n",
       "        vertical-align: middle;\n",
       "    }\n",
       "\n",
       "    .dataframe tbody tr th {\n",
       "        vertical-align: top;\n",
       "    }\n",
       "\n",
       "    .dataframe thead th {\n",
       "        text-align: right;\n",
       "    }\n",
       "</style>\n",
       "<table border=\"1\" class=\"dataframe\">\n",
       "  <thead>\n",
       "    <tr style=\"text-align: right;\">\n",
       "      <th></th>\n",
       "      <th>Pclass</th>\n",
       "      <th>Sex</th>\n",
       "      <th>Age</th>\n",
       "      <th>SibSp</th>\n",
       "      <th>Parch</th>\n",
       "      <th>Fare</th>\n",
       "      <th>Name_Encoded</th>\n",
       "      <th>Embarked_Encoded</th>\n",
       "    </tr>\n",
       "  </thead>\n",
       "  <tbody>\n",
       "    <tr>\n",
       "      <th>331</th>\n",
       "      <td>0.147442</td>\n",
       "      <td>0.147442</td>\n",
       "      <td>0.442326</td>\n",
       "      <td>0.000000</td>\n",
       "      <td>0.000000</td>\n",
       "      <td>0.442326</td>\n",
       "      <td>0.737210</td>\n",
       "      <td>0.147442</td>\n",
       "    </tr>\n",
       "    <tr>\n",
       "      <th>733</th>\n",
       "      <td>0.333333</td>\n",
       "      <td>0.166667</td>\n",
       "      <td>0.333333</td>\n",
       "      <td>0.000000</td>\n",
       "      <td>0.000000</td>\n",
       "      <td>0.166667</td>\n",
       "      <td>0.833333</td>\n",
       "      <td>0.166667</td>\n",
       "    </tr>\n",
       "    <tr>\n",
       "      <th>382</th>\n",
       "      <td>0.474342</td>\n",
       "      <td>0.158114</td>\n",
       "      <td>0.316228</td>\n",
       "      <td>0.000000</td>\n",
       "      <td>0.000000</td>\n",
       "      <td>0.000000</td>\n",
       "      <td>0.790569</td>\n",
       "      <td>0.158114</td>\n",
       "    </tr>\n",
       "    <tr>\n",
       "      <th>704</th>\n",
       "      <td>0.474342</td>\n",
       "      <td>0.158114</td>\n",
       "      <td>0.316228</td>\n",
       "      <td>0.000000</td>\n",
       "      <td>0.000000</td>\n",
       "      <td>0.000000</td>\n",
       "      <td>0.790569</td>\n",
       "      <td>0.158114</td>\n",
       "    </tr>\n",
       "    <tr>\n",
       "      <th>813</th>\n",
       "      <td>0.600000</td>\n",
       "      <td>0.000000</td>\n",
       "      <td>0.000000</td>\n",
       "      <td>0.400000</td>\n",
       "      <td>0.200000</td>\n",
       "      <td>0.600000</td>\n",
       "      <td>0.200000</td>\n",
       "      <td>0.200000</td>\n",
       "    </tr>\n",
       "    <tr>\n",
       "      <th>...</th>\n",
       "      <td>...</td>\n",
       "      <td>...</td>\n",
       "      <td>...</td>\n",
       "      <td>...</td>\n",
       "      <td>...</td>\n",
       "      <td>...</td>\n",
       "      <td>...</td>\n",
       "      <td>...</td>\n",
       "    </tr>\n",
       "    <tr>\n",
       "      <th>106</th>\n",
       "      <td>0.774597</td>\n",
       "      <td>0.000000</td>\n",
       "      <td>0.516398</td>\n",
       "      <td>0.000000</td>\n",
       "      <td>0.000000</td>\n",
       "      <td>0.000000</td>\n",
       "      <td>0.258199</td>\n",
       "      <td>0.258199</td>\n",
       "    </tr>\n",
       "    <tr>\n",
       "      <th>270</th>\n",
       "      <td>0.156174</td>\n",
       "      <td>0.156174</td>\n",
       "      <td>0.312348</td>\n",
       "      <td>0.000000</td>\n",
       "      <td>0.000000</td>\n",
       "      <td>0.468521</td>\n",
       "      <td>0.780869</td>\n",
       "      <td>0.156174</td>\n",
       "    </tr>\n",
       "    <tr>\n",
       "      <th>860</th>\n",
       "      <td>0.437595</td>\n",
       "      <td>0.145865</td>\n",
       "      <td>0.437595</td>\n",
       "      <td>0.145865</td>\n",
       "      <td>0.000000</td>\n",
       "      <td>0.145865</td>\n",
       "      <td>0.729325</td>\n",
       "      <td>0.145865</td>\n",
       "    </tr>\n",
       "    <tr>\n",
       "      <th>435</th>\n",
       "      <td>0.137361</td>\n",
       "      <td>0.000000</td>\n",
       "      <td>0.000000</td>\n",
       "      <td>0.000000</td>\n",
       "      <td>0.137361</td>\n",
       "      <td>0.961524</td>\n",
       "      <td>0.137361</td>\n",
       "      <td>0.137361</td>\n",
       "    </tr>\n",
       "    <tr>\n",
       "      <th>102</th>\n",
       "      <td>0.121268</td>\n",
       "      <td>0.121268</td>\n",
       "      <td>0.242536</td>\n",
       "      <td>0.000000</td>\n",
       "      <td>0.000000</td>\n",
       "      <td>0.727607</td>\n",
       "      <td>0.606339</td>\n",
       "      <td>0.121268</td>\n",
       "    </tr>\n",
       "  </tbody>\n",
       "</table>\n",
       "<p>712 rows × 8 columns</p>\n",
       "</div>"
      ],
      "text/plain": [
       "       Pclass       Sex       Age     SibSp     Parch      Fare  Name_Encoded  \\\n",
       "331  0.147442  0.147442  0.442326  0.000000  0.000000  0.442326      0.737210   \n",
       "733  0.333333  0.166667  0.333333  0.000000  0.000000  0.166667      0.833333   \n",
       "382  0.474342  0.158114  0.316228  0.000000  0.000000  0.000000      0.790569   \n",
       "704  0.474342  0.158114  0.316228  0.000000  0.000000  0.000000      0.790569   \n",
       "813  0.600000  0.000000  0.000000  0.400000  0.200000  0.600000      0.200000   \n",
       "..        ...       ...       ...       ...       ...       ...           ...   \n",
       "106  0.774597  0.000000  0.516398  0.000000  0.000000  0.000000      0.258199   \n",
       "270  0.156174  0.156174  0.312348  0.000000  0.000000  0.468521      0.780869   \n",
       "860  0.437595  0.145865  0.437595  0.145865  0.000000  0.145865      0.729325   \n",
       "435  0.137361  0.000000  0.000000  0.000000  0.137361  0.961524      0.137361   \n",
       "102  0.121268  0.121268  0.242536  0.000000  0.000000  0.727607      0.606339   \n",
       "\n",
       "     Embarked_Encoded  \n",
       "331          0.147442  \n",
       "733          0.166667  \n",
       "382          0.158114  \n",
       "704          0.158114  \n",
       "813          0.200000  \n",
       "..                ...  \n",
       "106          0.258199  \n",
       "270          0.156174  \n",
       "860          0.145865  \n",
       "435          0.137361  \n",
       "102          0.121268  \n",
       "\n",
       "[712 rows x 8 columns]"
      ]
     },
     "execution_count": 452,
     "metadata": {},
     "output_type": "execute_result"
    }
   ],
   "source": [
    "X_train_split"
   ]
  },
  {
   "cell_type": "code",
   "execution_count": 453,
   "id": "202de36d",
   "metadata": {},
   "outputs": [
    {
     "data": {
      "text/html": [
       "<div>\n",
       "<style scoped>\n",
       "    .dataframe tbody tr th:only-of-type {\n",
       "        vertical-align: middle;\n",
       "    }\n",
       "\n",
       "    .dataframe tbody tr th {\n",
       "        vertical-align: top;\n",
       "    }\n",
       "\n",
       "    .dataframe thead th {\n",
       "        text-align: right;\n",
       "    }\n",
       "</style>\n",
       "<table border=\"1\" class=\"dataframe\">\n",
       "  <thead>\n",
       "    <tr style=\"text-align: right;\">\n",
       "      <th></th>\n",
       "      <th>Pclass</th>\n",
       "      <th>Sex</th>\n",
       "      <th>Age</th>\n",
       "      <th>SibSp</th>\n",
       "      <th>Parch</th>\n",
       "      <th>Fare</th>\n",
       "      <th>Name_Encoded</th>\n",
       "      <th>Embarked_Encoded</th>\n",
       "    </tr>\n",
       "  </thead>\n",
       "  <tbody>\n",
       "    <tr>\n",
       "      <th>709</th>\n",
       "      <td>0.707107</td>\n",
       "      <td>0.235702</td>\n",
       "      <td>0.000000</td>\n",
       "      <td>0.0</td>\n",
       "      <td>0.000000</td>\n",
       "      <td>0.471405</td>\n",
       "      <td>0.000000</td>\n",
       "      <td>0.471405</td>\n",
       "    </tr>\n",
       "    <tr>\n",
       "      <th>439</th>\n",
       "      <td>0.333333</td>\n",
       "      <td>0.166667</td>\n",
       "      <td>0.333333</td>\n",
       "      <td>0.0</td>\n",
       "      <td>0.000000</td>\n",
       "      <td>0.166667</td>\n",
       "      <td>0.833333</td>\n",
       "      <td>0.166667</td>\n",
       "    </tr>\n",
       "    <tr>\n",
       "      <th>840</th>\n",
       "      <td>0.493197</td>\n",
       "      <td>0.164399</td>\n",
       "      <td>0.164399</td>\n",
       "      <td>0.0</td>\n",
       "      <td>0.000000</td>\n",
       "      <td>0.000000</td>\n",
       "      <td>0.821995</td>\n",
       "      <td>0.164399</td>\n",
       "    </tr>\n",
       "    <tr>\n",
       "      <th>720</th>\n",
       "      <td>0.516398</td>\n",
       "      <td>0.000000</td>\n",
       "      <td>0.000000</td>\n",
       "      <td>0.0</td>\n",
       "      <td>0.000000</td>\n",
       "      <td>0.774597</td>\n",
       "      <td>0.258199</td>\n",
       "      <td>0.258199</td>\n",
       "    </tr>\n",
       "    <tr>\n",
       "      <th>39</th>\n",
       "      <td>0.774597</td>\n",
       "      <td>0.000000</td>\n",
       "      <td>0.000000</td>\n",
       "      <td>0.0</td>\n",
       "      <td>0.000000</td>\n",
       "      <td>0.258199</td>\n",
       "      <td>0.258199</td>\n",
       "      <td>0.516398</td>\n",
       "    </tr>\n",
       "    <tr>\n",
       "      <th>...</th>\n",
       "      <td>...</td>\n",
       "      <td>...</td>\n",
       "      <td>...</td>\n",
       "      <td>...</td>\n",
       "      <td>...</td>\n",
       "      <td>...</td>\n",
       "      <td>...</td>\n",
       "      <td>...</td>\n",
       "    </tr>\n",
       "    <tr>\n",
       "      <th>433</th>\n",
       "      <td>0.493197</td>\n",
       "      <td>0.164399</td>\n",
       "      <td>0.164399</td>\n",
       "      <td>0.0</td>\n",
       "      <td>0.000000</td>\n",
       "      <td>0.000000</td>\n",
       "      <td>0.821995</td>\n",
       "      <td>0.164399</td>\n",
       "    </tr>\n",
       "    <tr>\n",
       "      <th>773</th>\n",
       "      <td>0.457496</td>\n",
       "      <td>0.152499</td>\n",
       "      <td>0.304997</td>\n",
       "      <td>0.0</td>\n",
       "      <td>0.000000</td>\n",
       "      <td>0.000000</td>\n",
       "      <td>0.762493</td>\n",
       "      <td>0.304997</td>\n",
       "    </tr>\n",
       "    <tr>\n",
       "      <th>25</th>\n",
       "      <td>0.538816</td>\n",
       "      <td>0.000000</td>\n",
       "      <td>0.359211</td>\n",
       "      <td>0.0</td>\n",
       "      <td>0.359211</td>\n",
       "      <td>0.538816</td>\n",
       "      <td>0.359211</td>\n",
       "      <td>0.179605</td>\n",
       "    </tr>\n",
       "    <tr>\n",
       "      <th>84</th>\n",
       "      <td>0.707107</td>\n",
       "      <td>0.000000</td>\n",
       "      <td>0.353553</td>\n",
       "      <td>0.0</td>\n",
       "      <td>0.000000</td>\n",
       "      <td>0.353553</td>\n",
       "      <td>0.353553</td>\n",
       "      <td>0.353553</td>\n",
       "    </tr>\n",
       "    <tr>\n",
       "      <th>10</th>\n",
       "      <td>0.774597</td>\n",
       "      <td>0.000000</td>\n",
       "      <td>0.000000</td>\n",
       "      <td>0.0</td>\n",
       "      <td>0.000000</td>\n",
       "      <td>0.516398</td>\n",
       "      <td>0.258199</td>\n",
       "      <td>0.258199</td>\n",
       "    </tr>\n",
       "  </tbody>\n",
       "</table>\n",
       "<p>179 rows × 8 columns</p>\n",
       "</div>"
      ],
      "text/plain": [
       "       Pclass       Sex       Age  SibSp     Parch      Fare  Name_Encoded  \\\n",
       "709  0.707107  0.235702  0.000000    0.0  0.000000  0.471405      0.000000   \n",
       "439  0.333333  0.166667  0.333333    0.0  0.000000  0.166667      0.833333   \n",
       "840  0.493197  0.164399  0.164399    0.0  0.000000  0.000000      0.821995   \n",
       "720  0.516398  0.000000  0.000000    0.0  0.000000  0.774597      0.258199   \n",
       "39   0.774597  0.000000  0.000000    0.0  0.000000  0.258199      0.258199   \n",
       "..        ...       ...       ...    ...       ...       ...           ...   \n",
       "433  0.493197  0.164399  0.164399    0.0  0.000000  0.000000      0.821995   \n",
       "773  0.457496  0.152499  0.304997    0.0  0.000000  0.000000      0.762493   \n",
       "25   0.538816  0.000000  0.359211    0.0  0.359211  0.538816      0.359211   \n",
       "84   0.707107  0.000000  0.353553    0.0  0.000000  0.353553      0.353553   \n",
       "10   0.774597  0.000000  0.000000    0.0  0.000000  0.516398      0.258199   \n",
       "\n",
       "     Embarked_Encoded  \n",
       "709          0.471405  \n",
       "439          0.166667  \n",
       "840          0.164399  \n",
       "720          0.258199  \n",
       "39           0.516398  \n",
       "..                ...  \n",
       "433          0.164399  \n",
       "773          0.304997  \n",
       "25           0.179605  \n",
       "84           0.353553  \n",
       "10           0.258199  \n",
       "\n",
       "[179 rows x 8 columns]"
      ]
     },
     "execution_count": 453,
     "metadata": {},
     "output_type": "execute_result"
    }
   ],
   "source": [
    "X_test_split"
   ]
  },
  {
   "cell_type": "code",
   "execution_count": 454,
   "id": "7f05cd0a",
   "metadata": {},
   "outputs": [
    {
     "data": {
      "text/plain": [
       "331    0\n",
       "733    0\n",
       "382    0\n",
       "704    0\n",
       "813    0\n",
       "      ..\n",
       "106    1\n",
       "270    0\n",
       "860    0\n",
       "435    1\n",
       "102    0\n",
       "Name: Survived, Length: 712, dtype: int64"
      ]
     },
     "execution_count": 454,
     "metadata": {},
     "output_type": "execute_result"
    }
   ],
   "source": [
    "Y_train_split"
   ]
  },
  {
   "cell_type": "code",
   "execution_count": 455,
   "id": "b65958bf",
   "metadata": {},
   "outputs": [
    {
     "data": {
      "text/plain": [
       "709    1\n",
       "439    0\n",
       "840    0\n",
       "720    1\n",
       "39     1\n",
       "      ..\n",
       "433    0\n",
       "773    0\n",
       "25     1\n",
       "84     1\n",
       "10     1\n",
       "Name: Survived, Length: 179, dtype: int64"
      ]
     },
     "execution_count": 455,
     "metadata": {},
     "output_type": "execute_result"
    }
   ],
   "source": [
    "Y_test_split"
   ]
  },
  {
   "cell_type": "markdown",
   "id": "ff195612",
   "metadata": {},
   "source": [
    "### KNN - Model"
   ]
  },
  {
   "cell_type": "code",
   "execution_count": 456,
   "id": "eab63ed2",
   "metadata": {},
   "outputs": [],
   "source": [
    "# Selecting the best K value trough a Cross- Validation evaluation\n",
    "cv_scores_accuracy = []\n",
    "k_values = range(1, 21)"
   ]
  },
  {
   "cell_type": "code",
   "execution_count": 457,
   "id": "6177300a",
   "metadata": {},
   "outputs": [],
   "source": [
    "# Evaluating Accuracy Scores\n",
    "for k in k_values:\n",
    "    knn = KNeighborsClassifier(n_neighbors=k)\n",
    "    scores = cross_val_score(knn, X_train_split, Y_train_split, cv=5, scoring='accuracy')\n",
    "    cv_scores_accuracy.append(scores.mean()) "
   ]
  },
  {
   "cell_type": "code",
   "execution_count": 458,
   "id": "b240dbc8",
   "metadata": {},
   "outputs": [
    {
     "name": "stdout",
     "output_type": "stream",
     "text": [
      "K = 1, accuracy Score: 0.740027578055747\n",
      "K = 2, accuracy Score: 0.779424800551561\n",
      "K = 3, accuracy Score: 0.8047769132276177\n",
      "K = 4, accuracy Score: 0.7935093075938147\n",
      "K = 5, accuracy Score: 0.8174037230375258\n",
      "K = 6, accuracy Score: 0.8033093666896484\n",
      "K = 7, accuracy Score: 0.8173840244262779\n",
      "K = 8, accuracy Score: 0.8131783709248499\n",
      "K = 9, accuracy Score: 0.825824879346006\n",
      "K = 10, accuracy Score: 0.8187924751305033\n",
      "K = 11, accuracy Score: 0.8272333300502315\n",
      "K = 12, accuracy Score: 0.8230276765488034\n",
      "K = 13, accuracy Score: 0.8145769723234512\n",
      "K = 14, accuracy Score: 0.8117502216093765\n",
      "K = 15, accuracy Score: 0.81312912439673\n",
      "K = 16, accuracy Score: 0.8117305229981285\n",
      "K = 17, accuracy Score: 0.8075051708854526\n",
      "K = 18, accuracy Score: 0.8089234708953018\n",
      "K = 19, accuracy Score: 0.8173643258150299\n",
      "K = 20, accuracy Score: 0.8159361764995567\n"
     ]
    }
   ],
   "source": [
    "for k, accuracy_scores_mean in zip(k_values, cv_scores_accuracy):\n",
    "    print(f\"K = {k}, accuracy Score: {accuracy_scores_mean}\")"
   ]
  },
  {
   "cell_type": "code",
   "execution_count": 459,
   "id": "383a90c3",
   "metadata": {},
   "outputs": [
    {
     "name": "stdout",
     "output_type": "stream",
     "text": [
      "Optimal value of k: 11\n"
     ]
    }
   ],
   "source": [
    "optimal_k_accuracy = k_values[np.argmax(cv_scores_accuracy)]\n",
    "print(\"Optimal value of k:\", optimal_k_accuracy)"
   ]
  },
  {
   "cell_type": "code",
   "execution_count": 460,
   "id": "134413e0",
   "metadata": {},
   "outputs": [
    {
     "data": {
      "text/html": [
       "<style>#sk-container-id-5 {color: black;}#sk-container-id-5 pre{padding: 0;}#sk-container-id-5 div.sk-toggleable {background-color: white;}#sk-container-id-5 label.sk-toggleable__label {cursor: pointer;display: block;width: 100%;margin-bottom: 0;padding: 0.3em;box-sizing: border-box;text-align: center;}#sk-container-id-5 label.sk-toggleable__label-arrow:before {content: \"▸\";float: left;margin-right: 0.25em;color: #696969;}#sk-container-id-5 label.sk-toggleable__label-arrow:hover:before {color: black;}#sk-container-id-5 div.sk-estimator:hover label.sk-toggleable__label-arrow:before {color: black;}#sk-container-id-5 div.sk-toggleable__content {max-height: 0;max-width: 0;overflow: hidden;text-align: left;background-color: #f0f8ff;}#sk-container-id-5 div.sk-toggleable__content pre {margin: 0.2em;color: black;border-radius: 0.25em;background-color: #f0f8ff;}#sk-container-id-5 input.sk-toggleable__control:checked~div.sk-toggleable__content {max-height: 200px;max-width: 100%;overflow: auto;}#sk-container-id-5 input.sk-toggleable__control:checked~label.sk-toggleable__label-arrow:before {content: \"▾\";}#sk-container-id-5 div.sk-estimator input.sk-toggleable__control:checked~label.sk-toggleable__label {background-color: #d4ebff;}#sk-container-id-5 div.sk-label input.sk-toggleable__control:checked~label.sk-toggleable__label {background-color: #d4ebff;}#sk-container-id-5 input.sk-hidden--visually {border: 0;clip: rect(1px 1px 1px 1px);clip: rect(1px, 1px, 1px, 1px);height: 1px;margin: -1px;overflow: hidden;padding: 0;position: absolute;width: 1px;}#sk-container-id-5 div.sk-estimator {font-family: monospace;background-color: #f0f8ff;border: 1px dotted black;border-radius: 0.25em;box-sizing: border-box;margin-bottom: 0.5em;}#sk-container-id-5 div.sk-estimator:hover {background-color: #d4ebff;}#sk-container-id-5 div.sk-parallel-item::after {content: \"\";width: 100%;border-bottom: 1px solid gray;flex-grow: 1;}#sk-container-id-5 div.sk-label:hover label.sk-toggleable__label {background-color: #d4ebff;}#sk-container-id-5 div.sk-serial::before {content: \"\";position: absolute;border-left: 1px solid gray;box-sizing: border-box;top: 0;bottom: 0;left: 50%;z-index: 0;}#sk-container-id-5 div.sk-serial {display: flex;flex-direction: column;align-items: center;background-color: white;padding-right: 0.2em;padding-left: 0.2em;position: relative;}#sk-container-id-5 div.sk-item {position: relative;z-index: 1;}#sk-container-id-5 div.sk-parallel {display: flex;align-items: stretch;justify-content: center;background-color: white;position: relative;}#sk-container-id-5 div.sk-item::before, #sk-container-id-5 div.sk-parallel-item::before {content: \"\";position: absolute;border-left: 1px solid gray;box-sizing: border-box;top: 0;bottom: 0;left: 50%;z-index: -1;}#sk-container-id-5 div.sk-parallel-item {display: flex;flex-direction: column;z-index: 1;position: relative;background-color: white;}#sk-container-id-5 div.sk-parallel-item:first-child::after {align-self: flex-end;width: 50%;}#sk-container-id-5 div.sk-parallel-item:last-child::after {align-self: flex-start;width: 50%;}#sk-container-id-5 div.sk-parallel-item:only-child::after {width: 0;}#sk-container-id-5 div.sk-dashed-wrapped {border: 1px dashed gray;margin: 0 0.4em 0.5em 0.4em;box-sizing: border-box;padding-bottom: 0.4em;background-color: white;}#sk-container-id-5 div.sk-label label {font-family: monospace;font-weight: bold;display: inline-block;line-height: 1.2em;}#sk-container-id-5 div.sk-label-container {text-align: center;}#sk-container-id-5 div.sk-container {/* jupyter's `normalize.less` sets `[hidden] { display: none; }` but bootstrap.min.css set `[hidden] { display: none !important; }` so we also need the `!important` here to be able to override the default hidden behavior on the sphinx rendered scikit-learn.org. See: https://github.com/scikit-learn/scikit-learn/issues/21755 */display: inline-block !important;position: relative;}#sk-container-id-5 div.sk-text-repr-fallback {display: none;}</style><div id=\"sk-container-id-5\" class=\"sk-top-container\"><div class=\"sk-text-repr-fallback\"><pre>KNeighborsClassifier(n_neighbors=11)</pre><b>In a Jupyter environment, please rerun this cell to show the HTML representation or trust the notebook. <br />On GitHub, the HTML representation is unable to render, please try loading this page with nbviewer.org.</b></div><div class=\"sk-container\" hidden><div class=\"sk-item\"><div class=\"sk-estimator sk-toggleable\"><input class=\"sk-toggleable__control sk-hidden--visually\" id=\"sk-estimator-id-5\" type=\"checkbox\" checked><label for=\"sk-estimator-id-5\" class=\"sk-toggleable__label sk-toggleable__label-arrow\">KNeighborsClassifier</label><div class=\"sk-toggleable__content\"><pre>KNeighborsClassifier(n_neighbors=11)</pre></div></div></div></div></div>"
      ],
      "text/plain": [
       "KNeighborsClassifier(n_neighbors=11)"
      ]
     },
     "execution_count": 460,
     "metadata": {},
     "output_type": "execute_result"
    }
   ],
   "source": [
    "#Trainning the model\n",
    "best_knn = KNeighborsClassifier(n_neighbors=optimal_k_accuracy)\n",
    "best_knn.fit(X_train_split, Y_train_split)"
   ]
  },
  {
   "cell_type": "code",
   "execution_count": 461,
   "id": "b43494c2",
   "metadata": {},
   "outputs": [
    {
     "data": {
      "text/plain": [
       "array([1, 0, 0, 1, 1, 1, 1, 0, 1, 1, 0, 0, 0, 0, 0, 1, 0, 1, 0, 0, 0, 1,\n",
       "       1, 0, 0, 0, 0, 0, 0, 1, 0, 1, 0, 1, 0, 0, 1, 1, 1, 0, 0, 0, 0, 0,\n",
       "       1, 0, 0, 0, 0, 0, 1, 1, 0, 1, 0, 1, 0, 1, 1, 1, 0, 1, 1, 1, 0, 1,\n",
       "       0, 0, 0, 1, 1, 1, 0, 1, 0, 0, 1, 1, 1, 1, 0, 1, 1, 0, 0, 0, 1, 1,\n",
       "       0, 0, 1, 0, 0, 0, 0, 0, 0, 0, 1, 0, 0, 0, 1, 0, 0, 0, 1, 0, 0, 0,\n",
       "       1, 0, 1, 1, 0, 0, 0, 0, 1, 1, 0, 1, 1, 1, 0, 0, 0, 0, 1, 0, 1, 1,\n",
       "       0, 0, 0, 1, 1, 0, 0, 1, 0, 1, 0, 0, 0, 1, 0, 0, 1, 0, 0, 0, 0, 1,\n",
       "       0, 0, 0, 1, 1, 1, 0, 1, 0, 1, 0, 0, 0, 1, 0, 0, 1, 1, 1, 1, 0, 0,\n",
       "       0, 1, 1], dtype=int64)"
      ]
     },
     "execution_count": 461,
     "metadata": {},
     "output_type": "execute_result"
    }
   ],
   "source": [
    "y_pred = best_knn.predict(X_test_split)\n",
    "y_pred"
   ]
  },
  {
   "cell_type": "code",
   "execution_count": 462,
   "id": "4e47583d",
   "metadata": {},
   "outputs": [
    {
     "name": "stdout",
     "output_type": "stream",
     "text": [
      "Accuracy: 0.8379888268156425\n",
      "Recall: 0.8379888268156425\n",
      "Precision: 0.8383541039965622\n",
      "f1_score: 0.838144901931905\n"
     ]
    }
   ],
   "source": [
    "# Calculating Accuaacy, Recall and Precision\n",
    "\n",
    "accuracy = accuracy_score(Y_test_split, y_pred)\n",
    "recall = recall_score(Y_test_split, y_pred, average='weighted')\n",
    "precision = precision_score(Y_test_split, y_pred, average='weighted')\n",
    "f1 = f1_score(Y_test_split, y_pred, average='weighted')\n",
    "\n",
    "print(\"Accuracy:\", accuracy)\n",
    "print(\"Recall:\", recall)\n",
    "print(\"Precision:\", precision)\n",
    "print(\"f1_score:\", f1)"
   ]
  },
  {
   "cell_type": "code",
   "execution_count": 463,
   "id": "a942fd24",
   "metadata": {},
   "outputs": [
    {
     "name": "stdout",
     "output_type": "stream",
     "text": [
      "Length of Y_test_split: 179\n",
      "Length of y_pred: 179\n"
     ]
    }
   ],
   "source": [
    "print(\"Length of Y_test_split:\", len(Y_test_split))\n",
    "print(\"Length of y_pred:\", len(y_pred))"
   ]
  },
  {
   "cell_type": "code",
   "execution_count": 464,
   "id": "32940624",
   "metadata": {},
   "outputs": [
    {
     "data": {
      "image/png": "[encoded data removed]",
      "text/plain": [
       "<Figure size 800x600 with 2 Axes>"
      ]
     },
     "metadata": {},
     "output_type": "display_data"
    }
   ],
   "source": [
    "# Calculate the confusion matrix\n",
    "conf_matrix = confusion_matrix(Y_test_split, y_pred)\n",
    "\n",
    "# Plot the confusion matrix\n",
    "plt.figure(figsize=(8, 6))\n",
    "sns.heatmap(conf_matrix, annot=True, fmt='d', cmap='Blues')\n",
    "plt.xlabel('Predicted Labels')\n",
    "plt.ylabel('True Labels')\n",
    "plt.title('Confusion Matrix')\n",
    "plt.show()"
   ]
  },
  {
   "cell_type": "markdown",
   "id": "535333cb",
   "metadata": {},
   "source": [
    "### ANN Model"
   ]
  },
  {
   "cell_type": "code",
   "execution_count": 465,
   "id": "9bb0504f",
   "metadata": {},
   "outputs": [
    {
     "name": "stdout",
     "output_type": "stream",
     "text": [
      "Defaulting to user installation because normal site-packages is not writeable\n",
      "Requirement already satisfied: tensorflow in c:\\users\\user\\appdata\\roaming\\python\\python311\\site-packages (2.16.1)\n",
      "Requirement already satisfied: tensorflow-intel==2.16.1 in c:\\users\\user\\appdata\\roaming\\python\\python311\\site-packages (from tensorflow) (2.16.1)\n",
      "Requirement already satisfied: absl-py>=1.0.0 in c:\\users\\user\\appdata\\roaming\\python\\python311\\site-packages (from tensorflow-intel==2.16.1->tensorflow) (2.1.0)\n",
      "Requirement already satisfied: astunparse>=1.6.0 in c:\\users\\user\\appdata\\roaming\\python\\python311\\site-packages (from tensorflow-intel==2.16.1->tensorflow) (1.6.3)\n",
      "Requirement already satisfied: flatbuffers>=23.5.26 in c:\\users\\user\\appdata\\roaming\\python\\python311\\site-packages (from tensorflow-intel==2.16.1->tensorflow) (24.3.25)\n",
      "Requirement already satisfied: gast!=0.5.0,!=0.5.1,!=0.5.2,>=0.2.1 in c:\\users\\user\\appdata\\roaming\\python\\python311\\site-packages (from tensorflow-intel==2.16.1->tensorflow) (0.5.4)\n",
      "Requirement already satisfied: google-pasta>=0.1.1 in c:\\users\\user\\appdata\\roaming\\python\\python311\\site-packages (from tensorflow-intel==2.16.1->tensorflow) (0.2.0)\n",
      "Requirement already satisfied: h5py>=3.10.0 in c:\\users\\user\\appdata\\roaming\\python\\python311\\site-packages (from tensorflow-intel==2.16.1->tensorflow) (3.11.0)\n",
      "Requirement already satisfied: libclang>=13.0.0 in c:\\users\\user\\appdata\\roaming\\python\\python311\\site-packages (from tensorflow-intel==2.16.1->tensorflow) (18.1.1)\n",
      "Requirement already satisfied: ml-dtypes~=0.3.1 in c:\\users\\user\\appdata\\roaming\\python\\python311\\site-packages (from tensorflow-intel==2.16.1->tensorflow) (0.3.2)\n",
      "Requirement already satisfied: opt-einsum>=2.3.2 in c:\\users\\user\\appdata\\roaming\\python\\python311\\site-packages (from tensorflow-intel==2.16.1->tensorflow) (3.3.0)\n",
      "Requirement already satisfied: packaging in c:\\programdata\\anaconda3\\lib\\site-packages (from tensorflow-intel==2.16.1->tensorflow) (23.1)\n",
      "Requirement already satisfied: protobuf!=4.21.0,!=4.21.1,!=4.21.2,!=4.21.3,!=4.21.4,!=4.21.5,<5.0.0dev,>=3.20.3 in c:\\users\\user\\appdata\\roaming\\python\\python311\\site-packages (from tensorflow-intel==2.16.1->tensorflow) (4.25.3)\n",
      "Requirement already satisfied: requests<3,>=2.21.0 in c:\\programdata\\anaconda3\\lib\\site-packages (from tensorflow-intel==2.16.1->tensorflow) (2.31.0)\n",
      "Requirement already satisfied: setuptools in c:\\programdata\\anaconda3\\lib\\site-packages (from tensorflow-intel==2.16.1->tensorflow) (68.0.0)\n",
      "Requirement already satisfied: six>=1.12.0 in c:\\programdata\\anaconda3\\lib\\site-packages (from tensorflow-intel==2.16.1->tensorflow) (1.16.0)\n",
      "Requirement already satisfied: termcolor>=1.1.0 in c:\\users\\user\\appdata\\roaming\\python\\python311\\site-packages (from tensorflow-intel==2.16.1->tensorflow) (2.4.0)\n",
      "Requirement already satisfied: typing-extensions>=3.6.6 in c:\\programdata\\anaconda3\\lib\\site-packages (from tensorflow-intel==2.16.1->tensorflow) (4.7.1)\n",
      "Requirement already satisfied: wrapt>=1.11.0 in c:\\programdata\\anaconda3\\lib\\site-packages (from tensorflow-intel==2.16.1->tensorflow) (1.14.1)\n",
      "Requirement already satisfied: grpcio<2.0,>=1.24.3 in c:\\users\\user\\appdata\\roaming\\python\\python311\\site-packages (from tensorflow-intel==2.16.1->tensorflow) (1.63.0)\n",
      "Requirement already satisfied: tensorboard<2.17,>=2.16 in c:\\users\\user\\appdata\\roaming\\python\\python311\\site-packages (from tensorflow-intel==2.16.1->tensorflow) (2.16.2)\n",
      "Requirement already satisfied: keras>=3.0.0 in c:\\users\\user\\appdata\\roaming\\python\\python311\\site-packages (from tensorflow-intel==2.16.1->tensorflow) (3.3.3)\n",
      "Requirement already satisfied: tensorflow-io-gcs-filesystem>=0.23.1 in c:\\users\\user\\appdata\\roaming\\python\\python311\\site-packages (from tensorflow-intel==2.16.1->tensorflow) (0.31.0)\n",
      "Requirement already satisfied: numpy<2.0.0,>=1.23.5 in c:\\programdata\\anaconda3\\lib\\site-packages (from tensorflow-intel==2.16.1->tensorflow) (1.24.3)\n",
      "Requirement already satisfied: wheel<1.0,>=0.23.0 in c:\\programdata\\anaconda3\\lib\\site-packages (from astunparse>=1.6.0->tensorflow-intel==2.16.1->tensorflow) (0.38.4)\n",
      "Requirement already satisfied: rich in c:\\users\\user\\appdata\\roaming\\python\\python311\\site-packages (from keras>=3.0.0->tensorflow-intel==2.16.1->tensorflow) (13.7.1)\n",
      "Requirement already satisfied: namex in c:\\users\\user\\appdata\\roaming\\python\\python311\\site-packages (from keras>=3.0.0->tensorflow-intel==2.16.1->tensorflow) (0.0.8)\n",
      "Requirement already satisfied: optree in c:\\users\\user\\appdata\\roaming\\python\\python311\\site-packages (from keras>=3.0.0->tensorflow-intel==2.16.1->tensorflow) (0.11.0)\n",
      "Requirement already satisfied: charset-normalizer<4,>=2 in c:\\programdata\\anaconda3\\lib\\site-packages (from requests<3,>=2.21.0->tensorflow-intel==2.16.1->tensorflow) (2.0.4)\n",
      "Requirement already satisfied: idna<4,>=2.5 in c:\\programdata\\anaconda3\\lib\\site-packages (from requests<3,>=2.21.0->tensorflow-intel==2.16.1->tensorflow) (3.4)\n",
      "Requirement already satisfied: urllib3<3,>=1.21.1 in c:\\programdata\\anaconda3\\lib\\site-packages (from requests<3,>=2.21.0->tensorflow-intel==2.16.1->tensorflow) (1.26.16)\n",
      "Requirement already satisfied: certifi>=2017.4.17 in c:\\programdata\\anaconda3\\lib\\site-packages (from requests<3,>=2.21.0->tensorflow-intel==2.16.1->tensorflow) (2023.7.22)\n",
      "Requirement already satisfied: markdown>=2.6.8 in c:\\programdata\\anaconda3\\lib\\site-packages (from tensorboard<2.17,>=2.16->tensorflow-intel==2.16.1->tensorflow) (3.4.1)\n",
      "Requirement already satisfied: tensorboard-data-server<0.8.0,>=0.7.0 in c:\\users\\user\\appdata\\roaming\\python\\python311\\site-packages (from tensorboard<2.17,>=2.16->tensorflow-intel==2.16.1->tensorflow) (0.7.2)\n",
      "Requirement already satisfied: werkzeug>=1.0.1 in c:\\programdata\\anaconda3\\lib\\site-packages (from tensorboard<2.17,>=2.16->tensorflow-intel==2.16.1->tensorflow) (2.2.3)\n",
      "Requirement already satisfied: MarkupSafe>=2.1.1 in c:\\programdata\\anaconda3\\lib\\site-packages (from werkzeug>=1.0.1->tensorboard<2.17,>=2.16->tensorflow-intel==2.16.1->tensorflow) (2.1.1)\n",
      "Requirement already satisfied: markdown-it-py>=2.2.0 in c:\\programdata\\anaconda3\\lib\\site-packages (from rich->keras>=3.0.0->tensorflow-intel==2.16.1->tensorflow) (2.2.0)\n",
      "Requirement already satisfied: pygments<3.0.0,>=2.13.0 in c:\\programdata\\anaconda3\\lib\\site-packages (from rich->keras>=3.0.0->tensorflow-intel==2.16.1->tensorflow) (2.15.1)\n",
      "Requirement already satisfied: mdurl~=0.1 in c:\\programdata\\anaconda3\\lib\\site-packages (from markdown-it-py>=2.2.0->rich->keras>=3.0.0->tensorflow-intel==2.16.1->tensorflow) (0.1.0)\n",
      "Defaulting to user installation because normal site-packages is not writeable\n",
      "Requirement already satisfied: pydot in c:\\users\\user\\appdata\\roaming\\python\\python311\\site-packages (2.0.0)\n",
      "Requirement already satisfied: pyparsing>=3 in c:\\programdata\\anaconda3\\lib\\site-packages (from pydot) (3.0.9)\n"
     ]
    }
   ],
   "source": [
    "!pip install tensorflow\n",
    "!pip install pydot\n"
   ]
  },
  {
   "cell_type": "code",
   "execution_count": 466,
   "id": "d7442df8",
   "metadata": {},
   "outputs": [],
   "source": [
    "import tensorflow as tf\n",
    "from keras.models import Sequential\n",
    "from keras.layers import Dense\n",
    "from keras.models import Sequential\n",
    "from keras.layers import Dense, Input\n",
    "from keras import callbacks"
   ]
  },
  {
   "cell_type": "code",
   "execution_count": 467,
   "id": "eb86f005",
   "metadata": {},
   "outputs": [],
   "source": [
    "# Build a simple neural network\n",
    "model = Sequential()\n",
    "# Define the input shape with Input layer\n",
    "model.add(Input(shape=(8,)))\n",
    "# Add other layers\n",
    "model.add(Dense(8, activation='relu'))\n",
    "model.add(Dense(8, activation='relu'))\n",
    "model.add(Dense(1, activation='relu'))"
   ]
  },
  {
   "cell_type": "code",
   "execution_count": 468,
   "id": "ad8aeeae",
   "metadata": {},
   "outputs": [
    {
     "name": "stdout",
     "output_type": "stream",
     "text": [
      "Epoch 1/100\n",
      "\u001b[1m89/89\u001b[0m \u001b[32m━━━━━━━━━━━━━━━━━━━━\u001b[0m\u001b[37m\u001b[0m \u001b[1m3s\u001b[0m 7ms/step - accuracy: 0.6485 - loss: 5.6607 - val_accuracy: 0.5866 - val_loss: 6.5980\n",
      "Epoch 2/100\n",
      "\u001b[1m89/89\u001b[0m \u001b[32m━━━━━━━━━━━━━━━━━━━━\u001b[0m\u001b[37m\u001b[0m \u001b[1m0s\u001b[0m 3ms/step - accuracy: 0.6339 - loss: 5.8769 - val_accuracy: 0.5866 - val_loss: 6.5924\n",
      "Epoch 3/100\n",
      "\u001b[1m89/89\u001b[0m \u001b[32m━━━━━━━━━━━━━━━━━━━━\u001b[0m\u001b[37m\u001b[0m \u001b[1m0s\u001b[0m 3ms/step - accuracy: 0.6038 - loss: 5.0092 - val_accuracy: 0.5866 - val_loss: 1.3898\n",
      "Epoch 4/100\n",
      "\u001b[1m89/89\u001b[0m \u001b[32m━━━━━━━━━━━━━━━━━━━━\u001b[0m\u001b[37m\u001b[0m \u001b[1m0s\u001b[0m 2ms/step - accuracy: 0.6414 - loss: 0.9697 - val_accuracy: 0.5866 - val_loss: 0.8011\n",
      "Epoch 5/100\n",
      "\u001b[1m89/89\u001b[0m \u001b[32m━━━━━━━━━━━━━━━━━━━━\u001b[0m\u001b[37m\u001b[0m \u001b[1m0s\u001b[0m 3ms/step - accuracy: 0.5993 - loss: 0.7794 - val_accuracy: 0.5866 - val_loss: 0.7070\n",
      "Epoch 6/100\n",
      "\u001b[1m89/89\u001b[0m \u001b[32m━━━━━━━━━━━━━━━━━━━━\u001b[0m\u001b[37m\u001b[0m \u001b[1m0s\u001b[0m 4ms/step - accuracy: 0.6156 - loss: 0.6863 - val_accuracy: 0.5866 - val_loss: 0.6594\n",
      "Epoch 7/100\n",
      "\u001b[1m89/89\u001b[0m \u001b[32m━━━━━━━━━━━━━━━━━━━━\u001b[0m\u001b[37m\u001b[0m \u001b[1m1s\u001b[0m 3ms/step - accuracy: 0.6219 - loss: 0.6395 - val_accuracy: 0.5866 - val_loss: 0.6268\n",
      "Epoch 8/100\n",
      "\u001b[1m89/89\u001b[0m \u001b[32m━━━━━━━━━━━━━━━━━━━━\u001b[0m\u001b[37m\u001b[0m \u001b[1m0s\u001b[0m 2ms/step - accuracy: 0.6519 - loss: 0.6083 - val_accuracy: 0.7151 - val_loss: 0.6047\n",
      "Epoch 9/100\n",
      "\u001b[1m89/89\u001b[0m \u001b[32m━━━━━━━━━━━━━━━━━━━━\u001b[0m\u001b[37m\u001b[0m \u001b[1m0s\u001b[0m 2ms/step - accuracy: 0.7448 - loss: 0.5918 - val_accuracy: 0.7486 - val_loss: 0.5846\n",
      "Epoch 10/100\n",
      "\u001b[1m89/89\u001b[0m \u001b[32m━━━━━━━━━━━━━━━━━━━━\u001b[0m\u001b[37m\u001b[0m \u001b[1m0s\u001b[0m 3ms/step - accuracy: 0.7636 - loss: 0.5659 - val_accuracy: 0.7542 - val_loss: 0.5627\n",
      "Epoch 11/100\n",
      "\u001b[1m89/89\u001b[0m \u001b[32m━━━━━━━━━━━━━━━━━━━━\u001b[0m\u001b[37m\u001b[0m \u001b[1m0s\u001b[0m 3ms/step - accuracy: 0.7383 - loss: 0.5699 - val_accuracy: 0.7542 - val_loss: 0.5437\n",
      "Epoch 12/100\n",
      "\u001b[1m89/89\u001b[0m \u001b[32m━━━━━━━━━━━━━━━━━━━━\u001b[0m\u001b[37m\u001b[0m \u001b[1m0s\u001b[0m 3ms/step - accuracy: 0.7519 - loss: 0.5504 - val_accuracy: 0.7542 - val_loss: 0.5237\n",
      "Epoch 13/100\n",
      "\u001b[1m89/89\u001b[0m \u001b[32m━━━━━━━━━━━━━━━━━━━━\u001b[0m\u001b[37m\u001b[0m \u001b[1m0s\u001b[0m 2ms/step - accuracy: 0.7595 - loss: 0.5318 - val_accuracy: 0.7263 - val_loss: 0.5041\n",
      "Epoch 14/100\n",
      "\u001b[1m89/89\u001b[0m \u001b[32m━━━━━━━━━━━━━━━━━━━━\u001b[0m\u001b[37m\u001b[0m \u001b[1m0s\u001b[0m 3ms/step - accuracy: 0.7891 - loss: 0.5067 - val_accuracy: 0.7430 - val_loss: 0.4889\n",
      "Epoch 15/100\n",
      "\u001b[1m89/89\u001b[0m \u001b[32m━━━━━━━━━━━━━━━━━━━━\u001b[0m\u001b[37m\u001b[0m \u001b[1m0s\u001b[0m 2ms/step - accuracy: 0.7717 - loss: 0.4824 - val_accuracy: 0.7095 - val_loss: 0.4723\n",
      "Epoch 16/100\n",
      "\u001b[1m89/89\u001b[0m \u001b[32m━━━━━━━━━━━━━━━━━━━━\u001b[0m\u001b[37m\u001b[0m \u001b[1m0s\u001b[0m 2ms/step - accuracy: 0.7505 - loss: 0.4929 - val_accuracy: 0.7430 - val_loss: 0.4673\n",
      "Epoch 17/100\n",
      "\u001b[1m89/89\u001b[0m \u001b[32m━━━━━━━━━━━━━━━━━━━━\u001b[0m\u001b[37m\u001b[0m \u001b[1m0s\u001b[0m 2ms/step - accuracy: 0.7602 - loss: 0.5039 - val_accuracy: 0.7318 - val_loss: 0.4569\n",
      "Epoch 18/100\n",
      "\u001b[1m89/89\u001b[0m \u001b[32m━━━━━━━━━━━━━━━━━━━━\u001b[0m\u001b[37m\u001b[0m \u001b[1m0s\u001b[0m 2ms/step - accuracy: 0.7764 - loss: 0.4761 - val_accuracy: 0.7263 - val_loss: 0.4486\n",
      "Epoch 19/100\n",
      "\u001b[1m89/89\u001b[0m \u001b[32m━━━━━━━━━━━━━━━━━━━━\u001b[0m\u001b[37m\u001b[0m \u001b[1m0s\u001b[0m 3ms/step - accuracy: 0.7632 - loss: 0.4812 - val_accuracy: 0.7263 - val_loss: 0.4465\n",
      "Epoch 20/100\n",
      "\u001b[1m89/89\u001b[0m \u001b[32m━━━━━━━━━━━━━━━━━━━━\u001b[0m\u001b[37m\u001b[0m \u001b[1m0s\u001b[0m 3ms/step - accuracy: 0.8005 - loss: 0.4629 - val_accuracy: 0.7318 - val_loss: 0.4437\n",
      "Epoch 21/100\n",
      "\u001b[1m89/89\u001b[0m \u001b[32m━━━━━━━━━━━━━━━━━━━━\u001b[0m\u001b[37m\u001b[0m \u001b[1m0s\u001b[0m 2ms/step - accuracy: 0.7671 - loss: 0.4644 - val_accuracy: 0.7374 - val_loss: 0.4409\n",
      "Epoch 22/100\n",
      "\u001b[1m89/89\u001b[0m \u001b[32m━━━━━━━━━━━━━━━━━━━━\u001b[0m\u001b[37m\u001b[0m \u001b[1m0s\u001b[0m 2ms/step - accuracy: 0.7928 - loss: 0.4707 - val_accuracy: 0.7486 - val_loss: 0.4391\n",
      "Epoch 23/100\n",
      "\u001b[1m89/89\u001b[0m \u001b[32m━━━━━━━━━━━━━━━━━━━━\u001b[0m\u001b[37m\u001b[0m \u001b[1m0s\u001b[0m 2ms/step - accuracy: 0.8109 - loss: 0.4283 - val_accuracy: 0.7821 - val_loss: 0.4365\n",
      "Epoch 24/100\n",
      "\u001b[1m89/89\u001b[0m \u001b[32m━━━━━━━━━━━━━━━━━━━━\u001b[0m\u001b[37m\u001b[0m \u001b[1m0s\u001b[0m 2ms/step - accuracy: 0.7988 - loss: 0.4438 - val_accuracy: 0.7709 - val_loss: 0.4341\n",
      "Epoch 25/100\n",
      "\u001b[1m89/89\u001b[0m \u001b[32m━━━━━━━━━━━━━━━━━━━━\u001b[0m\u001b[37m\u001b[0m \u001b[1m0s\u001b[0m 2ms/step - accuracy: 0.7797 - loss: 0.5513 - val_accuracy: 0.7654 - val_loss: 0.4345\n",
      "Epoch 26/100\n",
      "\u001b[1m89/89\u001b[0m \u001b[32m━━━━━━━━━━━━━━━━━━━━\u001b[0m\u001b[37m\u001b[0m \u001b[1m0s\u001b[0m 2ms/step - accuracy: 0.7978 - loss: 0.4547 - val_accuracy: 0.7765 - val_loss: 0.4333\n",
      "Epoch 27/100\n",
      "\u001b[1m89/89\u001b[0m \u001b[32m━━━━━━━━━━━━━━━━━━━━\u001b[0m\u001b[37m\u001b[0m \u001b[1m0s\u001b[0m 2ms/step - accuracy: 0.8008 - loss: 0.4389 - val_accuracy: 0.7765 - val_loss: 0.4338\n",
      "Epoch 28/100\n",
      "\u001b[1m89/89\u001b[0m \u001b[32m━━━━━━━━━━━━━━━━━━━━\u001b[0m\u001b[37m\u001b[0m \u001b[1m0s\u001b[0m 3ms/step - accuracy: 0.8246 - loss: 0.4303 - val_accuracy: 0.7765 - val_loss: 0.4337\n",
      "Epoch 29/100\n",
      "\u001b[1m89/89\u001b[0m \u001b[32m━━━━━━━━━━━━━━━━━━━━\u001b[0m\u001b[37m\u001b[0m \u001b[1m0s\u001b[0m 3ms/step - accuracy: 0.7891 - loss: 0.4605 - val_accuracy: 0.7765 - val_loss: 0.4339\n",
      "Epoch 30/100\n",
      "\u001b[1m89/89\u001b[0m \u001b[32m━━━━━━━━━━━━━━━━━━━━\u001b[0m\u001b[37m\u001b[0m \u001b[1m0s\u001b[0m 3ms/step - accuracy: 0.8177 - loss: 0.5290 - val_accuracy: 0.7877 - val_loss: 0.4328\n",
      "Epoch 31/100\n",
      "\u001b[1m89/89\u001b[0m \u001b[32m━━━━━━━━━━━━━━━━━━━━\u001b[0m\u001b[37m\u001b[0m \u001b[1m0s\u001b[0m 2ms/step - accuracy: 0.8034 - loss: 0.4576 - val_accuracy: 0.7654 - val_loss: 0.4333\n",
      "Epoch 32/100\n",
      "\u001b[1m89/89\u001b[0m \u001b[32m━━━━━━━━━━━━━━━━━━━━\u001b[0m\u001b[37m\u001b[0m \u001b[1m0s\u001b[0m 3ms/step - accuracy: 0.8024 - loss: 0.4461 - val_accuracy: 0.7821 - val_loss: 0.4345\n",
      "Epoch 33/100\n",
      "\u001b[1m89/89\u001b[0m \u001b[32m━━━━━━━━━━━━━━━━━━━━\u001b[0m\u001b[37m\u001b[0m \u001b[1m0s\u001b[0m 2ms/step - accuracy: 0.7885 - loss: 0.5132 - val_accuracy: 0.7765 - val_loss: 0.4322\n",
      "Epoch 34/100\n",
      "\u001b[1m89/89\u001b[0m \u001b[32m━━━━━━━━━━━━━━━━━━━━\u001b[0m\u001b[37m\u001b[0m \u001b[1m0s\u001b[0m 2ms/step - accuracy: 0.7869 - loss: 0.4574 - val_accuracy: 0.7821 - val_loss: 0.4319\n",
      "Epoch 35/100\n",
      "\u001b[1m89/89\u001b[0m \u001b[32m━━━━━━━━━━━━━━━━━━━━\u001b[0m\u001b[37m\u001b[0m \u001b[1m0s\u001b[0m 3ms/step - accuracy: 0.8047 - loss: 0.4874 - val_accuracy: 0.7654 - val_loss: 0.4326\n",
      "Epoch 36/100\n",
      "\u001b[1m89/89\u001b[0m \u001b[32m━━━━━━━━━━━━━━━━━━━━\u001b[0m\u001b[37m\u001b[0m \u001b[1m0s\u001b[0m 2ms/step - accuracy: 0.7718 - loss: 0.4768 - val_accuracy: 0.7765 - val_loss: 0.4316\n",
      "Epoch 37/100\n",
      "\u001b[1m89/89\u001b[0m \u001b[32m━━━━━━━━━━━━━━━━━━━━\u001b[0m\u001b[37m\u001b[0m \u001b[1m0s\u001b[0m 2ms/step - accuracy: 0.8081 - loss: 0.4393 - val_accuracy: 0.7821 - val_loss: 0.4306\n",
      "Epoch 38/100\n",
      "\u001b[1m89/89\u001b[0m \u001b[32m━━━━━━━━━━━━━━━━━━━━\u001b[0m\u001b[37m\u001b[0m \u001b[1m0s\u001b[0m 2ms/step - accuracy: 0.8061 - loss: 0.4397 - val_accuracy: 0.7654 - val_loss: 0.4299\n",
      "Epoch 39/100\n",
      "\u001b[1m89/89\u001b[0m \u001b[32m━━━━━━━━━━━━━━━━━━━━\u001b[0m\u001b[37m\u001b[0m \u001b[1m0s\u001b[0m 2ms/step - accuracy: 0.8091 - loss: 0.4650 - val_accuracy: 0.7765 - val_loss: 0.4302\n",
      "Epoch 40/100\n",
      "\u001b[1m89/89\u001b[0m \u001b[32m━━━━━━━━━━━━━━━━━━━━\u001b[0m\u001b[37m\u001b[0m \u001b[1m0s\u001b[0m 3ms/step - accuracy: 0.8071 - loss: 0.4628 - val_accuracy: 0.7654 - val_loss: 0.4285\n",
      "Epoch 41/100\n",
      "\u001b[1m89/89\u001b[0m \u001b[32m━━━━━━━━━━━━━━━━━━━━\u001b[0m\u001b[37m\u001b[0m \u001b[1m0s\u001b[0m 2ms/step - accuracy: 0.7695 - loss: 0.4611 - val_accuracy: 0.7765 - val_loss: 0.4291\n",
      "Epoch 42/100\n",
      "\u001b[1m89/89\u001b[0m \u001b[32m━━━━━━━━━━━━━━━━━━━━\u001b[0m\u001b[37m\u001b[0m \u001b[1m0s\u001b[0m 3ms/step - accuracy: 0.8101 - loss: 0.4291 - val_accuracy: 0.7765 - val_loss: 0.4265\n",
      "Epoch 43/100\n",
      "\u001b[1m89/89\u001b[0m \u001b[32m━━━━━━━━━━━━━━━━━━━━\u001b[0m\u001b[37m\u001b[0m \u001b[1m0s\u001b[0m 2ms/step - accuracy: 0.8062 - loss: 0.4318 - val_accuracy: 0.7542 - val_loss: 0.4274\n",
      "Epoch 44/100\n",
      "\u001b[1m89/89\u001b[0m \u001b[32m━━━━━━━━━━━━━━━━━━━━\u001b[0m\u001b[37m\u001b[0m \u001b[1m0s\u001b[0m 3ms/step - accuracy: 0.7926 - loss: 0.4395 - val_accuracy: 0.7765 - val_loss: 0.4251\n",
      "Epoch 45/100\n",
      "\u001b[1m89/89\u001b[0m \u001b[32m━━━━━━━━━━━━━━━━━━━━\u001b[0m\u001b[37m\u001b[0m \u001b[1m0s\u001b[0m 2ms/step - accuracy: 0.7977 - loss: 0.5065 - val_accuracy: 0.7709 - val_loss: 0.4247\n",
      "Epoch 46/100\n",
      "\u001b[1m89/89\u001b[0m \u001b[32m━━━━━━━━━━━━━━━━━━━━\u001b[0m\u001b[37m\u001b[0m \u001b[1m0s\u001b[0m 2ms/step - accuracy: 0.7862 - loss: 0.4367 - val_accuracy: 0.7765 - val_loss: 0.4244\n",
      "Epoch 47/100\n",
      "\u001b[1m89/89\u001b[0m \u001b[32m━━━━━━━━━━━━━━━━━━━━\u001b[0m\u001b[37m\u001b[0m \u001b[1m0s\u001b[0m 3ms/step - accuracy: 0.7853 - loss: 0.4710 - val_accuracy: 0.7709 - val_loss: 0.4234\n",
      "Epoch 48/100\n",
      "\u001b[1m89/89\u001b[0m \u001b[32m━━━━━━━━━━━━━━━━━━━━\u001b[0m\u001b[37m\u001b[0m \u001b[1m0s\u001b[0m 3ms/step - accuracy: 0.8033 - loss: 0.4286 - val_accuracy: 0.7542 - val_loss: 0.4270\n",
      "Epoch 49/100\n",
      "\u001b[1m89/89\u001b[0m \u001b[32m━━━━━━━━━━━━━━━━━━━━\u001b[0m\u001b[37m\u001b[0m \u001b[1m0s\u001b[0m 3ms/step - accuracy: 0.7729 - loss: 0.5160 - val_accuracy: 0.7933 - val_loss: 0.4279\n",
      "Epoch 50/100\n",
      "\u001b[1m89/89\u001b[0m \u001b[32m━━━━━━━━━━━━━━━━━━━━\u001b[0m\u001b[37m\u001b[0m \u001b[1m0s\u001b[0m 3ms/step - accuracy: 0.7741 - loss: 0.4916 - val_accuracy: 0.7821 - val_loss: 0.4230\n",
      "Epoch 51/100\n"
     ]
    },
    {
     "name": "stdout",
     "output_type": "stream",
     "text": [
      "\u001b[1m89/89\u001b[0m \u001b[32m━━━━━━━━━━━━━━━━━━━━\u001b[0m\u001b[37m\u001b[0m \u001b[1m0s\u001b[0m 3ms/step - accuracy: 0.7925 - loss: 0.4564 - val_accuracy: 0.7821 - val_loss: 0.4237\n",
      "Epoch 52/100\n",
      "\u001b[1m89/89\u001b[0m \u001b[32m━━━━━━━━━━━━━━━━━━━━\u001b[0m\u001b[37m\u001b[0m \u001b[1m0s\u001b[0m 3ms/step - accuracy: 0.8077 - loss: 0.4042 - val_accuracy: 0.7765 - val_loss: 0.4206\n",
      "Epoch 53/100\n",
      "\u001b[1m89/89\u001b[0m \u001b[32m━━━━━━━━━━━━━━━━━━━━\u001b[0m\u001b[37m\u001b[0m \u001b[1m1s\u001b[0m 3ms/step - accuracy: 0.7978 - loss: 0.4235 - val_accuracy: 0.7821 - val_loss: 0.4230\n",
      "Epoch 54/100\n",
      "\u001b[1m89/89\u001b[0m \u001b[32m━━━━━━━━━━━━━━━━━━━━\u001b[0m\u001b[37m\u001b[0m \u001b[1m0s\u001b[0m 3ms/step - accuracy: 0.8076 - loss: 0.4196 - val_accuracy: 0.7654 - val_loss: 0.4186\n",
      "Epoch 55/100\n",
      "\u001b[1m89/89\u001b[0m \u001b[32m━━━━━━━━━━━━━━━━━━━━\u001b[0m\u001b[37m\u001b[0m \u001b[1m0s\u001b[0m 3ms/step - accuracy: 0.8234 - loss: 0.4173 - val_accuracy: 0.7598 - val_loss: 0.4195\n",
      "Epoch 56/100\n",
      "\u001b[1m89/89\u001b[0m \u001b[32m━━━━━━━━━━━━━━━━━━━━\u001b[0m\u001b[37m\u001b[0m \u001b[1m0s\u001b[0m 3ms/step - accuracy: 0.7967 - loss: 0.4172 - val_accuracy: 0.7709 - val_loss: 0.4215\n",
      "Epoch 57/100\n",
      "\u001b[1m89/89\u001b[0m \u001b[32m━━━━━━━━━━━━━━━━━━━━\u001b[0m\u001b[37m\u001b[0m \u001b[1m0s\u001b[0m 2ms/step - accuracy: 0.8248 - loss: 0.4139 - val_accuracy: 0.8045 - val_loss: 0.4267\n",
      "Epoch 58/100\n",
      "\u001b[1m89/89\u001b[0m \u001b[32m━━━━━━━━━━━━━━━━━━━━\u001b[0m\u001b[37m\u001b[0m \u001b[1m0s\u001b[0m 3ms/step - accuracy: 0.7875 - loss: 0.4415 - val_accuracy: 0.8101 - val_loss: 0.4414\n",
      "Epoch 59/100\n",
      "\u001b[1m89/89\u001b[0m \u001b[32m━━━━━━━━━━━━━━━━━━━━\u001b[0m\u001b[37m\u001b[0m \u001b[1m0s\u001b[0m 3ms/step - accuracy: 0.7829 - loss: 0.4584 - val_accuracy: 0.7542 - val_loss: 0.4178\n",
      "Epoch 60/100\n",
      "\u001b[1m89/89\u001b[0m \u001b[32m━━━━━━━━━━━━━━━━━━━━\u001b[0m\u001b[37m\u001b[0m \u001b[1m0s\u001b[0m 3ms/step - accuracy: 0.7757 - loss: 0.4864 - val_accuracy: 0.7654 - val_loss: 0.4217\n",
      "Epoch 61/100\n",
      "\u001b[1m89/89\u001b[0m \u001b[32m━━━━━━━━━━━━━━━━━━━━\u001b[0m\u001b[37m\u001b[0m \u001b[1m0s\u001b[0m 3ms/step - accuracy: 0.8180 - loss: 0.4297 - val_accuracy: 0.7654 - val_loss: 0.4170\n",
      "Epoch 62/100\n",
      "\u001b[1m89/89\u001b[0m \u001b[32m━━━━━━━━━━━━━━━━━━━━\u001b[0m\u001b[37m\u001b[0m \u001b[1m0s\u001b[0m 2ms/step - accuracy: 0.8067 - loss: 0.4320 - val_accuracy: 0.7709 - val_loss: 0.4169\n",
      "Epoch 63/100\n",
      "\u001b[1m89/89\u001b[0m \u001b[32m━━━━━━━━━━━━━━━━━━━━\u001b[0m\u001b[37m\u001b[0m \u001b[1m0s\u001b[0m 3ms/step - accuracy: 0.8074 - loss: 0.4257 - val_accuracy: 0.7598 - val_loss: 0.4175\n",
      "Epoch 64/100\n",
      "\u001b[1m89/89\u001b[0m \u001b[32m━━━━━━━━━━━━━━━━━━━━\u001b[0m\u001b[37m\u001b[0m \u001b[1m0s\u001b[0m 2ms/step - accuracy: 0.8057 - loss: 0.4434 - val_accuracy: 0.7765 - val_loss: 0.4183\n",
      "Epoch 65/100\n",
      "\u001b[1m89/89\u001b[0m \u001b[32m━━━━━━━━━━━━━━━━━━━━\u001b[0m\u001b[37m\u001b[0m \u001b[1m0s\u001b[0m 2ms/step - accuracy: 0.8046 - loss: 0.4532 - val_accuracy: 0.7709 - val_loss: 0.4182\n",
      "Epoch 66/100\n",
      "\u001b[1m89/89\u001b[0m \u001b[32m━━━━━━━━━━━━━━━━━━━━\u001b[0m\u001b[37m\u001b[0m \u001b[1m0s\u001b[0m 2ms/step - accuracy: 0.8103 - loss: 0.4606 - val_accuracy: 0.7654 - val_loss: 0.4216\n",
      "Epoch 67/100\n",
      "\u001b[1m89/89\u001b[0m \u001b[32m━━━━━━━━━━━━━━━━━━━━\u001b[0m\u001b[37m\u001b[0m \u001b[1m0s\u001b[0m 2ms/step - accuracy: 0.7944 - loss: 0.4925 - val_accuracy: 0.7765 - val_loss: 0.4181\n",
      "Epoch 68/100\n",
      "\u001b[1m89/89\u001b[0m \u001b[32m━━━━━━━━━━━━━━━━━━━━\u001b[0m\u001b[37m\u001b[0m \u001b[1m0s\u001b[0m 2ms/step - accuracy: 0.7882 - loss: 0.5312 - val_accuracy: 0.7765 - val_loss: 0.4189\n",
      "Epoch 69/100\n",
      "\u001b[1m89/89\u001b[0m \u001b[32m━━━━━━━━━━━━━━━━━━━━\u001b[0m\u001b[37m\u001b[0m \u001b[1m0s\u001b[0m 2ms/step - accuracy: 0.8118 - loss: 0.4606 - val_accuracy: 0.7765 - val_loss: 0.4233\n",
      "Epoch 70/100\n",
      "\u001b[1m89/89\u001b[0m \u001b[32m━━━━━━━━━━━━━━━━━━━━\u001b[0m\u001b[37m\u001b[0m \u001b[1m0s\u001b[0m 2ms/step - accuracy: 0.8142 - loss: 0.4293 - val_accuracy: 0.7765 - val_loss: 0.4176\n",
      "Epoch 71/100\n",
      "\u001b[1m89/89\u001b[0m \u001b[32m━━━━━━━━━━━━━━━━━━━━\u001b[0m\u001b[37m\u001b[0m \u001b[1m0s\u001b[0m 2ms/step - accuracy: 0.8096 - loss: 0.4246 - val_accuracy: 0.7821 - val_loss: 0.4166\n",
      "Epoch 72/100\n",
      "\u001b[1m89/89\u001b[0m \u001b[32m━━━━━━━━━━━━━━━━━━━━\u001b[0m\u001b[37m\u001b[0m \u001b[1m0s\u001b[0m 2ms/step - accuracy: 0.8116 - loss: 0.4378 - val_accuracy: 0.7765 - val_loss: 0.4174\n",
      "Epoch 73/100\n",
      "\u001b[1m89/89\u001b[0m \u001b[32m━━━━━━━━━━━━━━━━━━━━\u001b[0m\u001b[37m\u001b[0m \u001b[1m0s\u001b[0m 3ms/step - accuracy: 0.8210 - loss: 0.4278 - val_accuracy: 0.7709 - val_loss: 0.4224\n",
      "Epoch 74/100\n",
      "\u001b[1m89/89\u001b[0m \u001b[32m━━━━━━━━━━━━━━━━━━━━\u001b[0m\u001b[37m\u001b[0m \u001b[1m0s\u001b[0m 2ms/step - accuracy: 0.7977 - loss: 0.4320 - val_accuracy: 0.7765 - val_loss: 0.4275\n",
      "Epoch 75/100\n",
      "\u001b[1m89/89\u001b[0m \u001b[32m━━━━━━━━━━━━━━━━━━━━\u001b[0m\u001b[37m\u001b[0m \u001b[1m0s\u001b[0m 2ms/step - accuracy: 0.8115 - loss: 0.4833 - val_accuracy: 0.7821 - val_loss: 0.4247\n",
      "Epoch 76/100\n",
      "\u001b[1m89/89\u001b[0m \u001b[32m━━━━━━━━━━━━━━━━━━━━\u001b[0m\u001b[37m\u001b[0m \u001b[1m0s\u001b[0m 2ms/step - accuracy: 0.7993 - loss: 0.4324 - val_accuracy: 0.7765 - val_loss: 0.4203\n",
      "Epoch 77/100\n",
      "\u001b[1m89/89\u001b[0m \u001b[32m━━━━━━━━━━━━━━━━━━━━\u001b[0m\u001b[37m\u001b[0m \u001b[1m0s\u001b[0m 2ms/step - accuracy: 0.8181 - loss: 0.4298 - val_accuracy: 0.7821 - val_loss: 0.4200\n",
      "Epoch 78/100\n",
      "\u001b[1m89/89\u001b[0m \u001b[32m━━━━━━━━━━━━━━━━━━━━\u001b[0m\u001b[37m\u001b[0m \u001b[1m0s\u001b[0m 3ms/step - accuracy: 0.7991 - loss: 0.4377 - val_accuracy: 0.7821 - val_loss: 0.4176\n",
      "Epoch 79/100\n",
      "\u001b[1m89/89\u001b[0m \u001b[32m━━━━━━━━━━━━━━━━━━━━\u001b[0m\u001b[37m\u001b[0m \u001b[1m0s\u001b[0m 2ms/step - accuracy: 0.8557 - loss: 0.3607 - val_accuracy: 0.7821 - val_loss: 0.4173\n",
      "Epoch 80/100\n",
      "\u001b[1m89/89\u001b[0m \u001b[32m━━━━━━━━━━━━━━━━━━━━\u001b[0m\u001b[37m\u001b[0m \u001b[1m0s\u001b[0m 2ms/step - accuracy: 0.8227 - loss: 0.4460 - val_accuracy: 0.7821 - val_loss: 0.4231\n",
      "Epoch 81/100\n",
      "\u001b[1m89/89\u001b[0m \u001b[32m━━━━━━━━━━━━━━━━━━━━\u001b[0m\u001b[37m\u001b[0m \u001b[1m0s\u001b[0m 2ms/step - accuracy: 0.8513 - loss: 0.3917 - val_accuracy: 0.7877 - val_loss: 0.4263\n",
      "Epoch 82/100\n",
      "\u001b[1m89/89\u001b[0m \u001b[32m━━━━━━━━━━━━━━━━━━━━\u001b[0m\u001b[37m\u001b[0m \u001b[1m0s\u001b[0m 2ms/step - accuracy: 0.8331 - loss: 0.4125 - val_accuracy: 0.7821 - val_loss: 0.4204\n",
      "Epoch 83/100\n",
      "\u001b[1m89/89\u001b[0m \u001b[32m━━━━━━━━━━━━━━━━━━━━\u001b[0m\u001b[37m\u001b[0m \u001b[1m0s\u001b[0m 2ms/step - accuracy: 0.8228 - loss: 0.4019 - val_accuracy: 0.7933 - val_loss: 0.4218\n",
      "Epoch 84/100\n",
      "\u001b[1m89/89\u001b[0m \u001b[32m━━━━━━━━━━━━━━━━━━━━\u001b[0m\u001b[37m\u001b[0m \u001b[1m0s\u001b[0m 2ms/step - accuracy: 0.8149 - loss: 0.4215 - val_accuracy: 0.7765 - val_loss: 0.4289\n",
      "Epoch 85/100\n",
      "\u001b[1m89/89\u001b[0m \u001b[32m━━━━━━━━━━━━━━━━━━━━\u001b[0m\u001b[37m\u001b[0m \u001b[1m0s\u001b[0m 2ms/step - accuracy: 0.8309 - loss: 0.3919 - val_accuracy: 0.7877 - val_loss: 0.4401\n",
      "Epoch 86/100\n",
      "\u001b[1m89/89\u001b[0m \u001b[32m━━━━━━━━━━━━━━━━━━━━\u001b[0m\u001b[37m\u001b[0m \u001b[1m0s\u001b[0m 3ms/step - accuracy: 0.8289 - loss: 0.4001 - val_accuracy: 0.7821 - val_loss: 0.4190\n",
      "Epoch 87/100\n",
      "\u001b[1m89/89\u001b[0m \u001b[32m━━━━━━━━━━━━━━━━━━━━\u001b[0m\u001b[37m\u001b[0m \u001b[1m0s\u001b[0m 2ms/step - accuracy: 0.8468 - loss: 0.3825 - val_accuracy: 0.7933 - val_loss: 0.4975\n",
      "Epoch 88/100\n",
      "\u001b[1m89/89\u001b[0m \u001b[32m━━━━━━━━━━━━━━━━━━━━\u001b[0m\u001b[37m\u001b[0m \u001b[1m0s\u001b[0m 3ms/step - accuracy: 0.8391 - loss: 0.4244 - val_accuracy: 0.7877 - val_loss: 0.4957\n",
      "Epoch 89/100\n",
      "\u001b[1m89/89\u001b[0m \u001b[32m━━━━━━━━━━━━━━━━━━━━\u001b[0m\u001b[37m\u001b[0m \u001b[1m0s\u001b[0m 2ms/step - accuracy: 0.8225 - loss: 0.4257 - val_accuracy: 0.7877 - val_loss: 0.4229\n",
      "Epoch 90/100\n",
      "\u001b[1m89/89\u001b[0m \u001b[32m━━━━━━━━━━━━━━━━━━━━\u001b[0m\u001b[37m\u001b[0m \u001b[1m0s\u001b[0m 2ms/step - accuracy: 0.7991 - loss: 0.4804 - val_accuracy: 0.7877 - val_loss: 0.4255\n",
      "Epoch 91/100\n",
      "\u001b[1m89/89\u001b[0m \u001b[32m━━━━━━━━━━━━━━━━━━━━\u001b[0m\u001b[37m\u001b[0m \u001b[1m0s\u001b[0m 2ms/step - accuracy: 0.8313 - loss: 0.4422 - val_accuracy: 0.7877 - val_loss: 0.4241\n",
      "Epoch 92/100\n",
      "\u001b[1m89/89\u001b[0m \u001b[32m━━━━━━━━━━━━━━━━━━━━\u001b[0m\u001b[37m\u001b[0m \u001b[1m0s\u001b[0m 2ms/step - accuracy: 0.7896 - loss: 0.4740 - val_accuracy: 0.8045 - val_loss: 0.4953\n",
      "Epoch 93/100\n",
      "\u001b[1m89/89\u001b[0m \u001b[32m━━━━━━━━━━━━━━━━━━━━\u001b[0m\u001b[37m\u001b[0m \u001b[1m0s\u001b[0m 2ms/step - accuracy: 0.8113 - loss: 0.4801 - val_accuracy: 0.7933 - val_loss: 0.4264\n",
      "Epoch 94/100\n",
      "\u001b[1m89/89\u001b[0m \u001b[32m━━━━━━━━━━━━━━━━━━━━\u001b[0m\u001b[37m\u001b[0m \u001b[1m0s\u001b[0m 2ms/step - accuracy: 0.8291 - loss: 0.4243 - val_accuracy: 0.7821 - val_loss: 0.4943\n",
      "Epoch 95/100\n",
      "\u001b[1m89/89\u001b[0m \u001b[32m━━━━━━━━━━━━━━━━━━━━\u001b[0m\u001b[37m\u001b[0m \u001b[1m0s\u001b[0m 2ms/step - accuracy: 0.8341 - loss: 0.4149 - val_accuracy: 0.8045 - val_loss: 0.4947\n",
      "Epoch 96/100\n",
      "\u001b[1m89/89\u001b[0m \u001b[32m━━━━━━━━━━━━━━━━━━━━\u001b[0m\u001b[37m\u001b[0m \u001b[1m0s\u001b[0m 2ms/step - accuracy: 0.8508 - loss: 0.3651 - val_accuracy: 0.7821 - val_loss: 0.4975\n",
      "Epoch 97/100\n",
      "\u001b[1m89/89\u001b[0m \u001b[32m━━━━━━━━━━━━━━━━━━━━\u001b[0m\u001b[37m\u001b[0m \u001b[1m0s\u001b[0m 2ms/step - accuracy: 0.8030 - loss: 0.4622 - val_accuracy: 0.8045 - val_loss: 0.5000\n",
      "Epoch 98/100\n",
      "\u001b[1m89/89\u001b[0m \u001b[32m━━━━━━━━━━━━━━━━━━━━\u001b[0m\u001b[37m\u001b[0m \u001b[1m0s\u001b[0m 3ms/step - accuracy: 0.8043 - loss: 0.4425 - val_accuracy: 0.7933 - val_loss: 0.4989\n",
      "Epoch 99/100\n",
      "\u001b[1m89/89\u001b[0m \u001b[32m━━━━━━━━━━━━━━━━━━━━\u001b[0m\u001b[37m\u001b[0m \u001b[1m0s\u001b[0m 2ms/step - accuracy: 0.8067 - loss: 0.4383 - val_accuracy: 0.7821 - val_loss: 0.5705\n",
      "Epoch 100/100\n",
      "\u001b[1m89/89\u001b[0m \u001b[32m━━━━━━━━━━━━━━━━━━━━\u001b[0m\u001b[37m\u001b[0m \u001b[1m0s\u001b[0m 3ms/step - accuracy: 0.8248 - loss: 0.3849 - val_accuracy: 0.7989 - val_loss: 0.4991\n"
     ]
    }
   ],
   "source": [
    "# Compile the model\n",
    "model.compile(optimizer='adam', loss='binary_crossentropy', metrics=['accuracy'])\n",
    "\n",
    "\n",
    "# Train the model\n",
    "history = model.fit(X_train_split, Y_train_split, epochs=100, batch_size=8, verbose=1,validation_data=(X_test_split,Y_test_split))\n",
    "\n",
    "\n"
   ]
  },
  {
   "cell_type": "code",
   "execution_count": 469,
   "id": "14f853e3",
   "metadata": {},
   "outputs": [
    {
     "data": {
      "image/png": "[encoded data removed]",
      "text/plain": [
       "<Figure size 1200x500 with 2 Axes>"
      ]
     },
     "metadata": {},
     "output_type": "display_data"
    }
   ],
   "source": [
    "# Plotting the loss and accuracy\n",
    "plt.figure(figsize=(12, 5))\n",
    "\n",
    "# Plotting loss\n",
    "plt.subplot(1, 2, 1)\n",
    "plt.plot(history.history['loss'], label='Training Loss')\n",
    "plt.plot(history.history['val_loss'], label='Validation Loss')\n",
    "plt.title('Model Loss')\n",
    "plt.xlabel('Epoch')\n",
    "plt.ylabel('Loss')\n",
    "plt.legend(loc='upper right')\n",
    "\n",
    "# Plotting accuracy\n",
    "plt.subplot(1, 2, 2)\n",
    "plt.plot(history.history['accuracy'], label='Training Accuracy')\n",
    "plt.plot(history.history['val_accuracy'], label='Validation Accuracy')\n",
    "plt.title('Model Accuracy')\n",
    "plt.xlabel('Epoch')\n",
    "plt.ylabel('Accuracy')\n",
    "plt.legend(loc='lower right')\n",
    "\n",
    "plt.tight_layout()\n",
    "plt.show()\n"
   ]
  },
  {
   "cell_type": "code",
   "execution_count": 470,
   "id": "6d9cfc49",
   "metadata": {},
   "outputs": [
    {
     "data": {
      "text/html": [
       "<pre style=\"white-space:pre;overflow-x:auto;line-height:normal;font-family:Menlo,'DejaVu Sans Mono',consolas,'Courier New',monospace\"><span style=\"font-weight: bold\">Model: \"sequential_9\"</span>\n",
       "</pre>\n"
      ],
      "text/plain": [
       "\u001b[1mModel: \"sequential_9\"\u001b[0m\n"
      ]
     },
     "metadata": {},
     "output_type": "display_data"
    },
    {
     "data": {
      "text/html": [
       "<pre style=\"white-space:pre;overflow-x:auto;line-height:normal;font-family:Menlo,'DejaVu Sans Mono',consolas,'Courier New',monospace\">┏━━━━━━━━━━━━━━━━━━━━━━━━━━━━━━━━━┳━━━━━━━━━━━━━━━━━━━━━━━━┳━━━━━━━━━━━━━━━┓\n",
       "┃<span style=\"font-weight: bold\"> Layer (type)                    </span>┃<span style=\"font-weight: bold\"> Output Shape           </span>┃<span style=\"font-weight: bold\">       Param # </span>┃\n",
       "┡━━━━━━━━━━━━━━━━━━━━━━━━━━━━━━━━━╇━━━━━━━━━━━━━━━━━━━━━━━━╇━━━━━━━━━━━━━━━┩\n",
       "│ dense_41 (<span style=\"color: #0087ff; text-decoration-color: #0087ff\">Dense</span>)                │ (<span style=\"color: #00d7ff; text-decoration-color: #00d7ff\">None</span>, <span style=\"color: #00af00; text-decoration-color: #00af00\">8</span>)              │            <span style=\"color: #00af00; text-decoration-color: #00af00\">72</span> │\n",
       "├─────────────────────────────────┼────────────────────────┼───────────────┤\n",
       "│ dense_42 (<span style=\"color: #0087ff; text-decoration-color: #0087ff\">Dense</span>)                │ (<span style=\"color: #00d7ff; text-decoration-color: #00d7ff\">None</span>, <span style=\"color: #00af00; text-decoration-color: #00af00\">8</span>)              │            <span style=\"color: #00af00; text-decoration-color: #00af00\">72</span> │\n",
       "├─────────────────────────────────┼────────────────────────┼───────────────┤\n",
       "│ dense_43 (<span style=\"color: #0087ff; text-decoration-color: #0087ff\">Dense</span>)                │ (<span style=\"color: #00d7ff; text-decoration-color: #00d7ff\">None</span>, <span style=\"color: #00af00; text-decoration-color: #00af00\">1</span>)              │             <span style=\"color: #00af00; text-decoration-color: #00af00\">9</span> │\n",
       "└─────────────────────────────────┴────────────────────────┴───────────────┘\n",
       "</pre>\n"
      ],
      "text/plain": [
       "┏━━━━━━━━━━━━━━━━━━━━━━━━━━━━━━━━━┳━━━━━━━━━━━━━━━━━━━━━━━━┳━━━━━━━━━━━━━━━┓\n",
       "┃\u001b[1m \u001b[0m\u001b[1mLayer (type)                   \u001b[0m\u001b[1m \u001b[0m┃\u001b[1m \u001b[0m\u001b[1mOutput Shape          \u001b[0m\u001b[1m \u001b[0m┃\u001b[1m \u001b[0m\u001b[1m      Param #\u001b[0m\u001b[1m \u001b[0m┃\n",
       "┡━━━━━━━━━━━━━━━━━━━━━━━━━━━━━━━━━╇━━━━━━━━━━━━━━━━━━━━━━━━╇━━━━━━━━━━━━━━━┩\n",
       "│ dense_41 (\u001b[38;5;33mDense\u001b[0m)                │ (\u001b[38;5;45mNone\u001b[0m, \u001b[38;5;34m8\u001b[0m)              │            \u001b[38;5;34m72\u001b[0m │\n",
       "├─────────────────────────────────┼────────────────────────┼───────────────┤\n",
       "│ dense_42 (\u001b[38;5;33mDense\u001b[0m)                │ (\u001b[38;5;45mNone\u001b[0m, \u001b[38;5;34m8\u001b[0m)              │            \u001b[38;5;34m72\u001b[0m │\n",
       "├─────────────────────────────────┼────────────────────────┼───────────────┤\n",
       "│ dense_43 (\u001b[38;5;33mDense\u001b[0m)                │ (\u001b[38;5;45mNone\u001b[0m, \u001b[38;5;34m1\u001b[0m)              │             \u001b[38;5;34m9\u001b[0m │\n",
       "└─────────────────────────────────┴────────────────────────┴───────────────┘\n"
      ]
     },
     "metadata": {},
     "output_type": "display_data"
    },
    {
     "data": {
      "text/html": [
       "<pre style=\"white-space:pre;overflow-x:auto;line-height:normal;font-family:Menlo,'DejaVu Sans Mono',consolas,'Courier New',monospace\"><span style=\"font-weight: bold\"> Total params: </span><span style=\"color: #00af00; text-decoration-color: #00af00\">461</span> (1.80 KB)\n",
       "</pre>\n"
      ],
      "text/plain": [
       "\u001b[1m Total params: \u001b[0m\u001b[38;5;34m461\u001b[0m (1.80 KB)\n"
      ]
     },
     "metadata": {},
     "output_type": "display_data"
    },
    {
     "data": {
      "text/html": [
       "<pre style=\"white-space:pre;overflow-x:auto;line-height:normal;font-family:Menlo,'DejaVu Sans Mono',consolas,'Courier New',monospace\"><span style=\"font-weight: bold\"> Trainable params: </span><span style=\"color: #00af00; text-decoration-color: #00af00\">153</span> (612.00 B)\n",
       "</pre>\n"
      ],
      "text/plain": [
       "\u001b[1m Trainable params: \u001b[0m\u001b[38;5;34m153\u001b[0m (612.00 B)\n"
      ]
     },
     "metadata": {},
     "output_type": "display_data"
    },
    {
     "data": {
      "text/html": [
       "<pre style=\"white-space:pre;overflow-x:auto;line-height:normal;font-family:Menlo,'DejaVu Sans Mono',consolas,'Courier New',monospace\"><span style=\"font-weight: bold\"> Non-trainable params: </span><span style=\"color: #00af00; text-decoration-color: #00af00\">0</span> (0.00 B)\n",
       "</pre>\n"
      ],
      "text/plain": [
       "\u001b[1m Non-trainable params: \u001b[0m\u001b[38;5;34m0\u001b[0m (0.00 B)\n"
      ]
     },
     "metadata": {},
     "output_type": "display_data"
    },
    {
     "data": {
      "text/html": [
       "<pre style=\"white-space:pre;overflow-x:auto;line-height:normal;font-family:Menlo,'DejaVu Sans Mono',consolas,'Courier New',monospace\"><span style=\"font-weight: bold\"> Optimizer params: </span><span style=\"color: #00af00; text-decoration-color: #00af00\">308</span> (1.21 KB)\n",
       "</pre>\n"
      ],
      "text/plain": [
       "\u001b[1m Optimizer params: \u001b[0m\u001b[38;5;34m308\u001b[0m (1.21 KB)\n"
      ]
     },
     "metadata": {},
     "output_type": "display_data"
    }
   ],
   "source": [
    "model.summary()"
   ]
  },
  {
   "cell_type": "code",
   "execution_count": 471,
   "id": "dc51eced",
   "metadata": {},
   "outputs": [
    {
     "name": "stdout",
     "output_type": "stream",
     "text": [
      "\u001b[1m6/6\u001b[0m \u001b[32m━━━━━━━━━━━━━━━━━━━━\u001b[0m\u001b[37m\u001b[0m \u001b[1m0s\u001b[0m 14ms/step\n"
     ]
    },
    {
     "data": {
      "text/plain": [
       "array([[1.2265208 ],\n",
       "       [0.10487857],\n",
       "       [0.11523271],\n",
       "       [1.0774117 ],\n",
       "       [0.74665356],\n",
       "       [1.2485894 ],\n",
       "       [0.6803444 ],\n",
       "       [0.10033108],\n",
       "       [0.45851856],\n",
       "       [0.8742517 ],\n",
       "       [0.29503912],\n",
       "       [0.11501185],\n",
       "       [0.43029898],\n",
       "       [0.11183466],\n",
       "       [0.10487857],\n",
       "       [1.1946466 ],\n",
       "       [0.33007264],\n",
       "       [0.6803444 ],\n",
       "       [0.105216  ],\n",
       "       [0.33007264],\n",
       "       [0.11842351],\n",
       "       [0.23339915],\n",
       "       [0.50605875],\n",
       "       [0.10558166],\n",
       "       [0.10904729],\n",
       "       [0.1986486 ],\n",
       "       [0.49331158],\n",
       "       [0.10487857],\n",
       "       [0.1986486 ],\n",
       "       [0.6102452 ],\n",
       "       [0.11523271],\n",
       "       [0.61024517],\n",
       "       [0.35444683],\n",
       "       [0.6102452 ],\n",
       "       [0.10558166],\n",
       "       [0.10703455],\n",
       "       [0.23339915],\n",
       "       [0.6803444 ],\n",
       "       [1.3267996 ],\n",
       "       [0.11842351],\n",
       "       [0.14727212],\n",
       "       [0.11842351],\n",
       "       [0.10904729],\n",
       "       [0.13067216],\n",
       "       [0.6517087 ],\n",
       "       [0.15597028],\n",
       "       [0.10558166],\n",
       "       [0.10904729],\n",
       "       [0.11842351],\n",
       "       [0.51020825],\n",
       "       [0.5553631 ],\n",
       "       [1.1328129 ],\n",
       "       [0.12418415],\n",
       "       [0.793459  ],\n",
       "       [0.20721863],\n",
       "       [0.8896292 ],\n",
       "       [0.10487857],\n",
       "       [1.2175084 ],\n",
       "       [1.0329046 ],\n",
       "       [0.45851856],\n",
       "       [0.11842351],\n",
       "       [0.9753257 ],\n",
       "       [0.9390028 ],\n",
       "       [0.23339915],\n",
       "       [0.13067216],\n",
       "       [0.7774823 ],\n",
       "       [0.39242494],\n",
       "       [0.11842351],\n",
       "       [0.10851461],\n",
       "       [1.2093421 ],\n",
       "       [0.9390029 ],\n",
       "       [0.8654502 ],\n",
       "       [0.35444683],\n",
       "       [1.3255805 ],\n",
       "       [0.11842351],\n",
       "       [0.09906599],\n",
       "       [0.6803444 ],\n",
       "       [1.0527639 ],\n",
       "       [0.8255326 ],\n",
       "       [0.6187881 ],\n",
       "       [0.04878211],\n",
       "       [0.59417737],\n",
       "       [1.1895403 ],\n",
       "       [0.13067216],\n",
       "       [0.38567978],\n",
       "       [0.50248796],\n",
       "       [1.3136697 ],\n",
       "       [1.3356179 ],\n",
       "       [0.11269039],\n",
       "       [0.11842351],\n",
       "       [0.80124074],\n",
       "       [0.2079394 ],\n",
       "       [0.3711686 ],\n",
       "       [0.13067216],\n",
       "       [0.11842351],\n",
       "       [0.11842351],\n",
       "       [0.33007264],\n",
       "       [0.11501185],\n",
       "       [0.59417737],\n",
       "       [0.11842351],\n",
       "       [0.3711686 ],\n",
       "       [0.11842351],\n",
       "       [1.1364017 ],\n",
       "       [0.11842351],\n",
       "       [0.10904729],\n",
       "       [0.11842351],\n",
       "       [0.9390029 ],\n",
       "       [0.29799086],\n",
       "       [0.10904729],\n",
       "       [0.35444683],\n",
       "       [1.0779155 ],\n",
       "       [0.11842351],\n",
       "       [1.1821303 ],\n",
       "       [0.23339915],\n",
       "       [0.3895586 ],\n",
       "       [0.10558166],\n",
       "       [0.42989212],\n",
       "       [0.12182583],\n",
       "       [0.9390029 ],\n",
       "       [0.72344166],\n",
       "       [0.11549988],\n",
       "       [1.3255805 ],\n",
       "       [1.3022925 ],\n",
       "       [0.78011507],\n",
       "       [0.11842351],\n",
       "       [0.35444683],\n",
       "       [0.71699756],\n",
       "       [0.4762661 ],\n",
       "       [0.5927864 ],\n",
       "       [0.10904729],\n",
       "       [0.6803444 ],\n",
       "       [1.2265208 ],\n",
       "       [0.11642402],\n",
       "       [0.6062451 ],\n",
       "       [0.5652692 ],\n",
       "       [0.51595867],\n",
       "       [1.3136697 ],\n",
       "       [0.11842351],\n",
       "       [0.1261357 ],\n",
       "       [0.62804306],\n",
       "       [0.10904729],\n",
       "       [1.0409473 ],\n",
       "       [0.10487857],\n",
       "       [0.22309592],\n",
       "       [0.40001667],\n",
       "       [0.9390029 ],\n",
       "       [0.10487857],\n",
       "       [0.20672682],\n",
       "       [1.1895403 ],\n",
       "       [0.11501185],\n",
       "       [0.10703455],\n",
       "       [0.11842351],\n",
       "       [0.11523271],\n",
       "       [0.86996603],\n",
       "       [0.10904729],\n",
       "       [0.11842351],\n",
       "       [0.44077295],\n",
       "       [0.6803444 ],\n",
       "       [0.9390028 ],\n",
       "       [0.6671593 ],\n",
       "       [0.11183466],\n",
       "       [0.23339915],\n",
       "       [0.10487857],\n",
       "       [1.1821303 ],\n",
       "       [0.1186258 ],\n",
       "       [0.49856788],\n",
       "       [0.10446554],\n",
       "       [1.0779155 ],\n",
       "       [0.11842351],\n",
       "       [0.11842351],\n",
       "       [0.43651903],\n",
       "       [0.37993872],\n",
       "       [0.23339915],\n",
       "       [0.97198236],\n",
       "       [0.11523271],\n",
       "       [0.11183466],\n",
       "       [0.44185984],\n",
       "       [0.72549826],\n",
       "       [0.83714116]], dtype=float32)"
      ]
     },
     "execution_count": 471,
     "metadata": {},
     "output_type": "execute_result"
    }
   ],
   "source": [
    "#Prediction on Testing_Split Data\n",
    "y_pred = model.predict(X_test_split)\n",
    "y_pred"
   ]
  },
  {
   "cell_type": "code",
   "execution_count": 472,
   "id": "079e0a24",
   "metadata": {},
   "outputs": [
    {
     "name": "stdout",
     "output_type": "stream",
     "text": [
      "\u001b[1m6/6\u001b[0m \u001b[32m━━━━━━━━━━━━━━━━━━━━\u001b[0m\u001b[37m\u001b[0m \u001b[1m0s\u001b[0m 3ms/step - accuracy: 0.8142 - loss: 0.4372 \n",
      "Test Accuracy: 0.80\n"
     ]
    }
   ],
   "source": [
    "#Checking Accuracy\n",
    "loss, accuracy = model.evaluate(X_test_split, Y_test_split)\n",
    "print(f'Test Accuracy: {accuracy:.2f}')"
   ]
  },
  {
   "cell_type": "code",
   "execution_count": 473,
   "id": "8aca2a2e",
   "metadata": {},
   "outputs": [],
   "source": [
    "y_pred = (y_pred > 0.5).astype(int)  # Convert probabilities to binary labels"
   ]
  },
  {
   "cell_type": "code",
   "execution_count": 474,
   "id": "950f7bac",
   "metadata": {
    "scrolled": true
   },
   "outputs": [
    {
     "name": "stdout",
     "output_type": "stream",
     "text": [
      "Length of Y_test_split: 179\n",
      "Length of y_pred: 179\n"
     ]
    }
   ],
   "source": [
    "print(\"Length of Y_test_split:\", len(Y_test_split))\n",
    "print(\"Length of y_pred:\", len(y_pred))"
   ]
  },
  {
   "cell_type": "code",
   "execution_count": 475,
   "id": "999f470f",
   "metadata": {},
   "outputs": [
    {
     "data": {
      "image/png": "[encoded data removed]",
      "text/plain": [
       "<Figure size 600x400 with 2 Axes>"
      ]
     },
     "metadata": {},
     "output_type": "display_data"
    }
   ],
   "source": [
    "cm2 = confusion_matrix(Y_test_split, y_pred)\n",
    "\n",
    "plt.figure(figsize=(6, 4))\n",
    "sns.heatmap(cm2, annot=True, fmt='d', cmap='Blues', xticklabels=['Predicted Negative', 'Predicted Positive'], yticklabels=['Actual Negative', 'Actual Positive'])\n",
    "plt.xlabel('Predicted')\n",
    "plt.ylabel('Actual')\n",
    "plt.title('Confusion Matrix')\n",
    "plt.show()"
   ]
  },
  {
   "cell_type": "markdown",
   "id": "21b1759f",
   "metadata": {},
   "source": [
    "## Preparing Submission"
   ]
  },
  {
   "cell_type": "code",
   "execution_count": 476,
   "id": "253abd23",
   "metadata": {},
   "outputs": [
    {
     "data": {
      "text/html": [
       "<div>\n",
       "<style scoped>\n",
       "    .dataframe tbody tr th:only-of-type {\n",
       "        vertical-align: middle;\n",
       "    }\n",
       "\n",
       "    .dataframe tbody tr th {\n",
       "        vertical-align: top;\n",
       "    }\n",
       "\n",
       "    .dataframe thead th {\n",
       "        text-align: right;\n",
       "    }\n",
       "</style>\n",
       "<table border=\"1\" class=\"dataframe\">\n",
       "  <thead>\n",
       "    <tr style=\"text-align: right;\">\n",
       "      <th></th>\n",
       "      <th>PassengerId</th>\n",
       "      <th>Pclass</th>\n",
       "      <th>Sex</th>\n",
       "      <th>Age</th>\n",
       "      <th>SibSp</th>\n",
       "      <th>Parch</th>\n",
       "      <th>Fare</th>\n",
       "      <th>Name_Encoded</th>\n",
       "      <th>Embarked_Encoded</th>\n",
       "    </tr>\n",
       "  </thead>\n",
       "  <tbody>\n",
       "    <tr>\n",
       "      <th>0</th>\n",
       "      <td>892</td>\n",
       "      <td>3</td>\n",
       "      <td>1</td>\n",
       "      <td>2.0</td>\n",
       "      <td>0</td>\n",
       "      <td>0</td>\n",
       "      <td>0.0</td>\n",
       "      <td>5</td>\n",
       "      <td>0</td>\n",
       "    </tr>\n",
       "    <tr>\n",
       "      <th>1</th>\n",
       "      <td>893</td>\n",
       "      <td>3</td>\n",
       "      <td>0</td>\n",
       "      <td>3.0</td>\n",
       "      <td>0</td>\n",
       "      <td>0</td>\n",
       "      <td>0.0</td>\n",
       "      <td>2</td>\n",
       "      <td>1</td>\n",
       "    </tr>\n",
       "    <tr>\n",
       "      <th>2</th>\n",
       "      <td>894</td>\n",
       "      <td>2</td>\n",
       "      <td>1</td>\n",
       "      <td>4.0</td>\n",
       "      <td>0</td>\n",
       "      <td>0</td>\n",
       "      <td>1.0</td>\n",
       "      <td>5</td>\n",
       "      <td>0</td>\n",
       "    </tr>\n",
       "    <tr>\n",
       "      <th>3</th>\n",
       "      <td>895</td>\n",
       "      <td>3</td>\n",
       "      <td>1</td>\n",
       "      <td>2.0</td>\n",
       "      <td>0</td>\n",
       "      <td>0</td>\n",
       "      <td>1.0</td>\n",
       "      <td>5</td>\n",
       "      <td>1</td>\n",
       "    </tr>\n",
       "    <tr>\n",
       "      <th>4</th>\n",
       "      <td>896</td>\n",
       "      <td>3</td>\n",
       "      <td>0</td>\n",
       "      <td>2.0</td>\n",
       "      <td>0</td>\n",
       "      <td>0</td>\n",
       "      <td>1.0</td>\n",
       "      <td>2</td>\n",
       "      <td>1</td>\n",
       "    </tr>\n",
       "  </tbody>\n",
       "</table>\n",
       "</div>"
      ],
      "text/plain": [
       "   PassengerId  Pclass  Sex  Age  SibSp  Parch  Fare  Name_Encoded  \\\n",
       "0          892       3    1  2.0      0      0   0.0             5   \n",
       "1          893       3    0  3.0      0      0   0.0             2   \n",
       "2          894       2    1  4.0      0      0   1.0             5   \n",
       "3          895       3    1  2.0      0      0   1.0             5   \n",
       "4          896       3    0  2.0      0      0   1.0             2   \n",
       "\n",
       "   Embarked_Encoded  \n",
       "0                 0  \n",
       "1                 1  \n",
       "2                 0  \n",
       "3                 1  \n",
       "4                 1  "
      ]
     },
     "execution_count": 476,
     "metadata": {},
     "output_type": "execute_result"
    }
   ],
   "source": [
    "test_data.head()"
   ]
  },
  {
   "cell_type": "code",
   "execution_count": 477,
   "id": "77ef8c09",
   "metadata": {},
   "outputs": [],
   "source": [
    "test_model = test_data.drop(\"PassengerId\", axis=1)"
   ]
  },
  {
   "cell_type": "code",
   "execution_count": 478,
   "id": "259f64fc",
   "metadata": {},
   "outputs": [
    {
     "data": {
      "text/html": [
       "<div>\n",
       "<style scoped>\n",
       "    .dataframe tbody tr th:only-of-type {\n",
       "        vertical-align: middle;\n",
       "    }\n",
       "\n",
       "    .dataframe tbody tr th {\n",
       "        vertical-align: top;\n",
       "    }\n",
       "\n",
       "    .dataframe thead th {\n",
       "        text-align: right;\n",
       "    }\n",
       "</style>\n",
       "<table border=\"1\" class=\"dataframe\">\n",
       "  <thead>\n",
       "    <tr style=\"text-align: right;\">\n",
       "      <th></th>\n",
       "      <th>Pclass</th>\n",
       "      <th>Sex</th>\n",
       "      <th>Age</th>\n",
       "      <th>SibSp</th>\n",
       "      <th>Parch</th>\n",
       "      <th>Fare</th>\n",
       "      <th>Name_Encoded</th>\n",
       "      <th>Embarked_Encoded</th>\n",
       "    </tr>\n",
       "  </thead>\n",
       "  <tbody>\n",
       "    <tr>\n",
       "      <th>0</th>\n",
       "      <td>0.480384</td>\n",
       "      <td>0.160128</td>\n",
       "      <td>0.320256</td>\n",
       "      <td>0.0</td>\n",
       "      <td>0.0</td>\n",
       "      <td>0.000000</td>\n",
       "      <td>0.800641</td>\n",
       "      <td>0.000000</td>\n",
       "    </tr>\n",
       "    <tr>\n",
       "      <th>1</th>\n",
       "      <td>0.625543</td>\n",
       "      <td>0.000000</td>\n",
       "      <td>0.625543</td>\n",
       "      <td>0.0</td>\n",
       "      <td>0.0</td>\n",
       "      <td>0.000000</td>\n",
       "      <td>0.417029</td>\n",
       "      <td>0.208514</td>\n",
       "    </tr>\n",
       "    <tr>\n",
       "      <th>2</th>\n",
       "      <td>0.291730</td>\n",
       "      <td>0.145865</td>\n",
       "      <td>0.583460</td>\n",
       "      <td>0.0</td>\n",
       "      <td>0.0</td>\n",
       "      <td>0.145865</td>\n",
       "      <td>0.729325</td>\n",
       "      <td>0.000000</td>\n",
       "    </tr>\n",
       "    <tr>\n",
       "      <th>3</th>\n",
       "      <td>0.468521</td>\n",
       "      <td>0.156174</td>\n",
       "      <td>0.312348</td>\n",
       "      <td>0.0</td>\n",
       "      <td>0.0</td>\n",
       "      <td>0.156174</td>\n",
       "      <td>0.780869</td>\n",
       "      <td>0.156174</td>\n",
       "    </tr>\n",
       "    <tr>\n",
       "      <th>4</th>\n",
       "      <td>0.688247</td>\n",
       "      <td>0.000000</td>\n",
       "      <td>0.458831</td>\n",
       "      <td>0.0</td>\n",
       "      <td>0.0</td>\n",
       "      <td>0.229416</td>\n",
       "      <td>0.458831</td>\n",
       "      <td>0.229416</td>\n",
       "    </tr>\n",
       "  </tbody>\n",
       "</table>\n",
       "</div>"
      ],
      "text/plain": [
       "     Pclass       Sex       Age  SibSp  Parch      Fare  Name_Encoded  \\\n",
       "0  0.480384  0.160128  0.320256    0.0    0.0  0.000000      0.800641   \n",
       "1  0.625543  0.000000  0.625543    0.0    0.0  0.000000      0.417029   \n",
       "2  0.291730  0.145865  0.583460    0.0    0.0  0.145865      0.729325   \n",
       "3  0.468521  0.156174  0.312348    0.0    0.0  0.156174      0.780869   \n",
       "4  0.688247  0.000000  0.458831    0.0    0.0  0.229416      0.458831   \n",
       "\n",
       "   Embarked_Encoded  \n",
       "0          0.000000  \n",
       "1          0.208514  \n",
       "2          0.000000  \n",
       "3          0.156174  \n",
       "4          0.229416  "
      ]
     },
     "execution_count": 478,
     "metadata": {},
     "output_type": "execute_result"
    }
   ],
   "source": [
    "#Scaling the data\n",
    "\n",
    "X_test = pd.DataFrame(preprocessing.normalize(test_model),columns=test_model.columns)\n",
    "X_test.head()"
   ]
  },
  {
   "cell_type": "code",
   "execution_count": 479,
   "id": "fe89f769",
   "metadata": {},
   "outputs": [
    {
     "data": {
      "text/plain": [
       "array([0, 1, 0, 0, 1, 0, 1, 0, 1, 0, 0, 0, 1, 0, 1, 1, 0, 0, 1, 1, 0, 1,\n",
       "       1, 1, 1, 0, 1, 0, 0, 0, 0, 0, 1, 1, 1, 0, 0, 0, 0, 0, 0, 1, 0, 1,\n",
       "       1, 0, 0, 0, 1, 1, 0, 0, 0, 1, 0, 0, 0, 0, 0, 1, 0, 0, 0, 1, 1, 1,\n",
       "       1, 0, 0, 1, 1, 0, 1, 0, 1, 0, 0, 1, 0, 1, 1, 0, 0, 0, 0, 0, 1, 0,\n",
       "       1, 1, 1, 0, 1, 0, 0, 0, 1, 0, 1, 0, 1, 0, 0, 0, 1, 0, 0, 0, 0, 0,\n",
       "       0, 1, 1, 1, 1, 0, 0, 1, 0, 1, 1, 0, 1, 0, 0, 1, 0, 1, 0, 0, 0, 0,\n",
       "       0, 0, 0, 0, 0, 0, 0, 0, 0, 1, 0, 0, 0, 0, 0, 0, 1, 0, 1, 0, 0, 1,\n",
       "       0, 0, 1, 1, 0, 1, 1, 1, 1, 0, 0, 1, 0, 0, 1, 0, 0, 0, 0, 0, 0, 1,\n",
       "       1, 0, 1, 1, 0, 0, 1, 0, 1, 0, 1, 0, 0, 0, 0, 1, 1, 0, 1, 0, 1, 1,\n",
       "       0, 1, 1, 1, 0, 1, 0, 0, 1, 0, 1, 0, 0, 0, 0, 1, 1, 0, 1, 0, 1, 0,\n",
       "       1, 0, 1, 0, 1, 1, 0, 1, 0, 0, 0, 1, 0, 0, 0, 0, 0, 0, 1, 1, 1, 1,\n",
       "       0, 0, 1, 0, 1, 0, 1, 1, 1, 0, 0, 0, 0, 0, 0, 0, 1, 0, 0, 0, 1, 0,\n",
       "       0, 0, 0, 0, 0, 0, 0, 0, 1, 1, 0, 1, 0, 0, 0, 0, 0, 1, 1, 1, 1, 0,\n",
       "       0, 0, 0, 0, 1, 1, 0, 1, 0, 0, 1, 0, 0, 0, 0, 0, 0, 0, 1, 1, 0, 1,\n",
       "       0, 1, 0, 0, 0, 1, 1, 1, 0, 0, 0, 0, 0, 0, 0, 1, 1, 0, 0, 0, 0, 0,\n",
       "       1, 0, 0, 1, 0, 1, 0, 0, 0, 1, 0, 0, 0, 1, 1, 1, 0, 1, 0, 1, 1, 0,\n",
       "       0, 0, 1, 0, 1, 0, 0, 1, 0, 1, 1, 0, 1, 1, 0, 1, 1, 0, 0, 1, 0, 0,\n",
       "       1, 1, 0, 0, 0, 0, 0, 0, 1, 1, 0, 1, 0, 0, 0, 0, 0, 1, 1, 0, 0, 1,\n",
       "       0, 1, 0, 0, 1, 0, 1, 0, 0, 0, 0, 0, 1, 0, 1, 1, 1, 0, 0, 0, 0, 1],\n",
       "      dtype=int64)"
      ]
     },
     "execution_count": 479,
     "metadata": {},
     "output_type": "execute_result"
    }
   ],
   "source": [
    "#Predicting with KNN \n",
    "\n",
    "y_pred = best_knn.predict(X_test)\n",
    "y_pred\n"
   ]
  },
  {
   "cell_type": "code",
   "execution_count": 480,
   "id": "5406b881",
   "metadata": {},
   "outputs": [],
   "source": [
    "y_pred = y_pred.astype(int)\n",
    "test_data ['Survived'] = y_pred"
   ]
  },
  {
   "cell_type": "code",
   "execution_count": 481,
   "id": "1ec96904",
   "metadata": {},
   "outputs": [
    {
     "data": {
      "text/html": [
       "<div>\n",
       "<style scoped>\n",
       "    .dataframe tbody tr th:only-of-type {\n",
       "        vertical-align: middle;\n",
       "    }\n",
       "\n",
       "    .dataframe tbody tr th {\n",
       "        vertical-align: top;\n",
       "    }\n",
       "\n",
       "    .dataframe thead th {\n",
       "        text-align: right;\n",
       "    }\n",
       "</style>\n",
       "<table border=\"1\" class=\"dataframe\">\n",
       "  <thead>\n",
       "    <tr style=\"text-align: right;\">\n",
       "      <th></th>\n",
       "      <th>PassengerId</th>\n",
       "      <th>Survived</th>\n",
       "    </tr>\n",
       "  </thead>\n",
       "  <tbody>\n",
       "    <tr>\n",
       "      <th>0</th>\n",
       "      <td>892</td>\n",
       "      <td>0</td>\n",
       "    </tr>\n",
       "    <tr>\n",
       "      <th>1</th>\n",
       "      <td>893</td>\n",
       "      <td>1</td>\n",
       "    </tr>\n",
       "    <tr>\n",
       "      <th>2</th>\n",
       "      <td>894</td>\n",
       "      <td>0</td>\n",
       "    </tr>\n",
       "    <tr>\n",
       "      <th>3</th>\n",
       "      <td>895</td>\n",
       "      <td>0</td>\n",
       "    </tr>\n",
       "    <tr>\n",
       "      <th>4</th>\n",
       "      <td>896</td>\n",
       "      <td>1</td>\n",
       "    </tr>\n",
       "    <tr>\n",
       "      <th>...</th>\n",
       "      <td>...</td>\n",
       "      <td>...</td>\n",
       "    </tr>\n",
       "    <tr>\n",
       "      <th>413</th>\n",
       "      <td>1305</td>\n",
       "      <td>0</td>\n",
       "    </tr>\n",
       "    <tr>\n",
       "      <th>414</th>\n",
       "      <td>1306</td>\n",
       "      <td>0</td>\n",
       "    </tr>\n",
       "    <tr>\n",
       "      <th>415</th>\n",
       "      <td>1307</td>\n",
       "      <td>0</td>\n",
       "    </tr>\n",
       "    <tr>\n",
       "      <th>416</th>\n",
       "      <td>1308</td>\n",
       "      <td>0</td>\n",
       "    </tr>\n",
       "    <tr>\n",
       "      <th>417</th>\n",
       "      <td>1309</td>\n",
       "      <td>1</td>\n",
       "    </tr>\n",
       "  </tbody>\n",
       "</table>\n",
       "<p>418 rows × 2 columns</p>\n",
       "</div>"
      ],
      "text/plain": [
       "     PassengerId  Survived\n",
       "0            892         0\n",
       "1            893         1\n",
       "2            894         0\n",
       "3            895         0\n",
       "4            896         1\n",
       "..           ...       ...\n",
       "413         1305         0\n",
       "414         1306         0\n",
       "415         1307         0\n",
       "416         1308         0\n",
       "417         1309         1\n",
       "\n",
       "[418 rows x 2 columns]"
      ]
     },
     "execution_count": 481,
     "metadata": {},
     "output_type": "execute_result"
    }
   ],
   "source": [
    "test_data = test_data[['PassengerId', 'Survived']]\n",
    "test_data"
   ]
  },
  {
   "cell_type": "code",
   "execution_count": 482,
   "id": "9c5386c7",
   "metadata": {},
   "outputs": [],
   "source": [
    "test_data.to_csv(\"submission.csv\", header=test_data.columns, index=False)"
   ]
  },
  {
   "cell_type": "markdown",
   "id": "c5c5697f",
   "metadata": {},
   "source": [
    "## Summary and Insights"
   ]
  },
  {
   "cell_type": "markdown",
   "id": "efdd5373",
   "metadata": {},
   "source": [
    "The dataset used in this analysis did not have complete information regarding the passengers' cabin assignments, so this feature was excluded from the model. Additionally, the ID and Ticket data were not considered relevant, as no discernible patterns were identified that would contribute meaningfully to the model's predictions.\n",
    "\n",
    "The numerical variables in the dataset generally contained consistent information, with the exception of the Age variable, which required correction.\n",
    "\n",
    "#### Data Preprocessing\n",
    "Name Cleaning: The names were cleaned to extract the title of each passenger. This extraction was instrumental in imputing missing age values and enhancing the model's training process.\n",
    "\n",
    "Imputing Missing Values:\n",
    "\n",
    " * Age: Missing ages were imputed using the median age of the group corresponding to each passenger's title.\n",
    " * Fare: Missing fare values were filled using the median fare.\n",
    " * Embarked: Missing embarked values were filled using the mode.\n",
    "#### Exploratory Data Analysis\n",
    "Visualizations revealed that passengers who purchased more expensive tickets tended to have a higher survival rate. However, the most significant predictors of survival were the passenger's title and sex, with women and children having higher survival priority.\n",
    "\n",
    "Variables such as the number of siblings/spouses and the number of guests showed no significant correlation with survival probability.\n",
    "\n",
    "#### Model Selection and Evaluation\n",
    "##### K-Nearest Neighbors (KNN) Model:\n",
    "\n",
    "* The optimal number of neighbors was determined through cross-validation, focusing on accuracy.\n",
    "* The model achieved an accuracy of 0.84. Out of a test sample of 179, the model made 150 correct predictions and 29 incorrect predictions.\n",
    "* Given its high accuracy, this model was chosen for submission.\n",
    "##### Artificial Neural Network (ANN) Model:\n",
    "\n",
    " * The performance of the ANN model varied significantly based on the layer configuration. A trial-and-error approach was used to determine the best configuration.\n",
    " * The current configuration of the ANN model achieved an accuracy of 0.80, correctly predicting 143 out of the same sample of 179, resulting in 36 incorrect predictions."
   ]
  },
  {
   "cell_type": "markdown",
   "id": "0419616d",
   "metadata": {},
   "source": [
    "# If you have come this far, give it a thumbs up :) \n",
    "## Thanks for watching"
   ]
  },
  {
   "cell_type": "code",
   "execution_count": null,
   "id": "fd8967f4",
   "metadata": {},
   "outputs": [],
   "source": []
  }
 ],
 "metadata": {
  "kernelspec": {
   "display_name": "Python 3 (ipykernel)",
   "language": "python",
   "name": "python3"
  },
  "language_info": {
   "codemirror_mode": {
    "name": "ipython",
    "version": 3
   },
   "file_extension": ".py",
   "mimetype": "text/x-python",
   "name": "python",
   "nbconvert_exporter": "python",
   "pygments_lexer": "ipython3",
   "version": "3.11.5"
  }
 },
 "nbformat": 4,
 "nbformat_minor": 5
}
